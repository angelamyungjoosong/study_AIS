{
 "cells": [
  {
   "cell_type": "code",
   "execution_count": 12,
   "id": "9bcf58d1-a79b-4bf7-9c94-611216da0f5e",
   "metadata": {
    "tags": []
   },
   "outputs": [],
   "source": [
    "import pymongo as mg\n",
    "import pandas as pd"
   ]
  },
  {
   "cell_type": "code",
   "execution_count": 13,
   "id": "6ab17f71-2517-4f3d-a85e-c99a283dc5c2",
   "metadata": {
    "tags": []
   },
   "outputs": [],
   "source": [
    "client = mg.MongoClient(host='mongodb://localhost:27017')"
   ]
  },
  {
   "cell_type": "code",
   "execution_count": 14,
   "id": "f5237a36-ee9e-424f-a549-0f9263df7b5b",
   "metadata": {
    "tags": []
   },
   "outputs": [
    {
     "data": {
      "text/plain": [
       "MongoClient(host=['localhost:27017'], document_class=dict, tz_aware=False, connect=True)"
      ]
     },
     "execution_count": 14,
     "metadata": {},
     "output_type": "execute_result"
    }
   ],
   "source": [
    "client"
   ]
  },
  {
   "cell_type": "code",
   "execution_count": 15,
   "id": "fc614c38-f0b5-42b9-bff3-6adc4473ba1a",
   "metadata": {
    "tags": []
   },
   "outputs": [],
   "source": [
    "database = client['db_NHIS']"
   ]
  },
  {
   "cell_type": "code",
   "execution_count": 21,
   "id": "31463392-0f22-4e7c-8e05-8d325d316324",
   "metadata": {
    "tags": []
   },
   "outputs": [],
   "source": [
    "collection = database['NSC2_M20']"
   ]
  },
  {
   "cell_type": "code",
   "execution_count": 22,
   "id": "9addeb3a-1ea8-40c6-9c80-366951d895cc",
   "metadata": {
    "tags": []
   },
   "outputs": [],
   "source": [
    "cursor = collection.find()"
   ]
  },
  {
   "cell_type": "code",
   "execution_count": 23,
   "id": "0d1a495c-5ab4-4fef-8cda-1ad60f75045f",
   "metadata": {
    "tags": []
   },
   "outputs": [],
   "source": [
    "list_M20 = list(cursor)"
   ]
  },
  {
   "cell_type": "code",
   "execution_count": 24,
   "id": "3b41d10c-0ce4-4298-92b8-af2a2873b5bf",
   "metadata": {
    "tags": []
   },
   "outputs": [],
   "source": [
    "df_M20 = pd.DataFrame(list_M20)"
   ]
  },
  {
   "cell_type": "code",
   "execution_count": 25,
   "id": "cc6bd350-1c00-4452-adbc-8506cd28ea81",
   "metadata": {
    "tags": []
   },
   "outputs": [
    {
     "name": "stdout",
     "output_type": "stream",
     "text": [
      "<class 'pandas.core.frame.DataFrame'>\n",
      "RangeIndex: 137163 entries, 0 to 137162\n",
      "Data columns (total 23 columns):\n",
      " #   Column              Non-Null Count   Dtype  \n",
      "---  ------              --------------   -----  \n",
      " 0   _id                 137163 non-null  object \n",
      " 1   RN_INDI             137163 non-null  int64  \n",
      " 2   RN_KEY              137163 non-null  int64  \n",
      " 3   RN_INST             137163 non-null  int64  \n",
      " 4   MDCARE_STRT_DT      137163 non-null  int64  \n",
      " 5   FORM_CD             137163 non-null  int64  \n",
      " 6   MCARE_SUBJ_CD       137163 non-null  int64  \n",
      " 7   SICK_SYM1           137163 non-null  object \n",
      " 8   OFIJ_TYPE           134428 non-null  object \n",
      " 9   OPRTN_YN            137163 non-null  int64  \n",
      " 10  MDCARE_DD_CNT       137163 non-null  int64  \n",
      " 11  VSHSP_DD_CNT        137163 non-null  int64  \n",
      " 12  TOT_PRSC_DD_CNT     137163 non-null  int64  \n",
      " 13  MCARE_RSLT_TYPE     133958 non-null  float64\n",
      " 14  EDC_ADD_RT          137163 non-null  float64\n",
      " 15  ED_RC_TOT_AMT       137163 non-null  int64  \n",
      " 16  EDC_SBA             137163 non-null  int64  \n",
      " 17  EDC_INSUR_BRDN_AMT  137163 non-null  int64  \n",
      " 18  STD_YYYY            137163 non-null  int64  \n",
      " 19  HSPTZ_PATH_TYPE     4201 non-null    float64\n",
      " 20  SICK_SYM2           95774 non-null   object \n",
      " 21  SPCF_SYM_TYPE       3528 non-null    object \n",
      " 22  FST_HSPTZ_DT        1040 non-null    float64\n",
      "dtypes: float64(4), int64(14), object(5)\n",
      "memory usage: 24.1+ MB\n"
     ]
    }
   ],
   "source": [
    "df_M20.info()"
   ]
  },
  {
   "cell_type": "code",
   "execution_count": 26,
   "id": "c2c6e326-cced-417b-99ba-e0afa52ee038",
   "metadata": {
    "tags": []
   },
   "outputs": [
    {
     "data": {
      "text/plain": [
       "Index(['_id', 'RN_INDI', 'RN_KEY', 'RN_INST', 'MDCARE_STRT_DT', 'FORM_CD',\n",
       "       'MCARE_SUBJ_CD', 'SICK_SYM1', 'OFIJ_TYPE', 'OPRTN_YN', 'MDCARE_DD_CNT',\n",
       "       'VSHSP_DD_CNT', 'TOT_PRSC_DD_CNT', 'MCARE_RSLT_TYPE', 'EDC_ADD_RT',\n",
       "       'ED_RC_TOT_AMT', 'EDC_SBA', 'EDC_INSUR_BRDN_AMT', 'STD_YYYY',\n",
       "       'HSPTZ_PATH_TYPE', 'SICK_SYM2', 'SPCF_SYM_TYPE', 'FST_HSPTZ_DT'],\n",
       "      dtype='object')"
      ]
     },
     "execution_count": 26,
     "metadata": {},
     "output_type": "execute_result"
    }
   ],
   "source": [
    "df_M20.columns"
   ]
  },
  {
   "cell_type": "markdown",
   "id": "20f9514b-201d-467e-8bc6-b66f499b6300",
   "metadata": {
    "tags": []
   },
   "source": [
    "#### 목표변수 - 연속형\n",
    "- 목표변수 : TOT_PRSC_DD_CNT \n",
    "- 설명변수 : MDCARE_DD_CNT, VSHSP_DD_CNT"
   ]
  },
  {
   "cell_type": "markdown",
   "id": "3cd3b004-00e4-4503-965e-ca505f1e8d50",
   "metadata": {},
   "source": [
    "#### Preprocessing 전처리"
   ]
  },
  {
   "cell_type": "markdown",
   "id": "28275cd7-e403-4936-adfb-3cdb9cb225bf",
   "metadata": {
    "tags": []
   },
   "source": [
    "##### 목표변수와 설명변수 추출 "
   ]
  },
  {
   "cell_type": "code",
   "execution_count": 32,
   "id": "183515ea-30f8-414e-8f6e-c5fa610df636",
   "metadata": {
    "tags": []
   },
   "outputs": [
    {
     "data": {
      "text/html": [
       "<div>\n",
       "<style scoped>\n",
       "    .dataframe tbody tr th:only-of-type {\n",
       "        vertical-align: middle;\n",
       "    }\n",
       "\n",
       "    .dataframe tbody tr th {\n",
       "        vertical-align: top;\n",
       "    }\n",
       "\n",
       "    .dataframe thead th {\n",
       "        text-align: right;\n",
       "    }\n",
       "</style>\n",
       "<table border=\"1\" class=\"dataframe\">\n",
       "  <thead>\n",
       "    <tr style=\"text-align: right;\">\n",
       "      <th></th>\n",
       "      <th>TOT_PRSC_DD_CNT</th>\n",
       "      <th>MDCARE_DD_CNT</th>\n",
       "      <th>VSHSP_DD_CNT</th>\n",
       "    </tr>\n",
       "  </thead>\n",
       "  <tbody>\n",
       "    <tr>\n",
       "      <th>0</th>\n",
       "      <td>0</td>\n",
       "      <td>1</td>\n",
       "      <td>1</td>\n",
       "    </tr>\n",
       "    <tr>\n",
       "      <th>1</th>\n",
       "      <td>2</td>\n",
       "      <td>1</td>\n",
       "      <td>1</td>\n",
       "    </tr>\n",
       "  </tbody>\n",
       "</table>\n",
       "</div>"
      ],
      "text/plain": [
       "   TOT_PRSC_DD_CNT  MDCARE_DD_CNT  VSHSP_DD_CNT\n",
       "0                0              1             1\n",
       "1                2              1             1"
      ]
     },
     "execution_count": 32,
     "metadata": {},
     "output_type": "execute_result"
    }
   ],
   "source": [
    "df_M20_extract = df_M20[['TOT_PRSC_DD_CNT', 'MDCARE_DD_CNT', 'VSHSP_DD_CNT' ]]\n",
    "df_M20_extract[:2]"
   ]
  },
  {
   "cell_type": "markdown",
   "id": "fce8c31a-e1ea-47c7-a722-93103750a824",
   "metadata": {},
   "source": [
    "#### 결측치나 이상치 확인 "
   ]
  },
  {
   "cell_type": "code",
   "execution_count": 33,
   "id": "53475d06-8181-4ac0-9886-5a1ac308f67e",
   "metadata": {
    "tags": []
   },
   "outputs": [
    {
     "data": {
      "text/plain": [
       "TOT_PRSC_DD_CNT    0\n",
       "MDCARE_DD_CNT      0\n",
       "VSHSP_DD_CNT       0\n",
       "dtype: int64"
      ]
     },
     "execution_count": 33,
     "metadata": {},
     "output_type": "execute_result"
    }
   ],
   "source": [
    "df_M20_extract.isnull().sum()"
   ]
  },
  {
   "cell_type": "code",
   "execution_count": 34,
   "id": "a6073d0e-737a-42f8-9b28-4d067ce66bc3",
   "metadata": {
    "tags": []
   },
   "outputs": [],
   "source": [
    "df_M20_extract.to_csv('../../datasets/M20_extract.csv')"
   ]
  },
  {
   "cell_type": "code",
   "execution_count": 36,
   "id": "e364248e-cf9b-489a-9c70-2808fa966bd3",
   "metadata": {
    "tags": []
   },
   "outputs": [
    {
     "data": {
      "text/html": [
       "<div>\n",
       "<style scoped>\n",
       "    .dataframe tbody tr th:only-of-type {\n",
       "        vertical-align: middle;\n",
       "    }\n",
       "\n",
       "    .dataframe tbody tr th {\n",
       "        vertical-align: top;\n",
       "    }\n",
       "\n",
       "    .dataframe thead th {\n",
       "        text-align: right;\n",
       "    }\n",
       "</style>\n",
       "<table border=\"1\" class=\"dataframe\">\n",
       "  <thead>\n",
       "    <tr style=\"text-align: right;\">\n",
       "      <th></th>\n",
       "      <th>Unnamed: 0</th>\n",
       "      <th>TOT_PRSC_DD_CNT</th>\n",
       "      <th>MDCARE_DD_CNT</th>\n",
       "      <th>VSHSP_DD_CNT</th>\n",
       "    </tr>\n",
       "  </thead>\n",
       "  <tbody>\n",
       "    <tr>\n",
       "      <th>137153</th>\n",
       "      <td>137153</td>\n",
       "      <td>0</td>\n",
       "      <td>11</td>\n",
       "      <td>7</td>\n",
       "    </tr>\n",
       "    <tr>\n",
       "      <th>137154</th>\n",
       "      <td>137154</td>\n",
       "      <td>0</td>\n",
       "      <td>2</td>\n",
       "      <td>2</td>\n",
       "    </tr>\n",
       "    <tr>\n",
       "      <th>137155</th>\n",
       "      <td>137155</td>\n",
       "      <td>0</td>\n",
       "      <td>10</td>\n",
       "      <td>3</td>\n",
       "    </tr>\n",
       "    <tr>\n",
       "      <th>137156</th>\n",
       "      <td>137156</td>\n",
       "      <td>0</td>\n",
       "      <td>2</td>\n",
       "      <td>2</td>\n",
       "    </tr>\n",
       "    <tr>\n",
       "      <th>137157</th>\n",
       "      <td>137157</td>\n",
       "      <td>0</td>\n",
       "      <td>9</td>\n",
       "      <td>6</td>\n",
       "    </tr>\n",
       "    <tr>\n",
       "      <th>137158</th>\n",
       "      <td>137158</td>\n",
       "      <td>0</td>\n",
       "      <td>7</td>\n",
       "      <td>4</td>\n",
       "    </tr>\n",
       "    <tr>\n",
       "      <th>137159</th>\n",
       "      <td>137159</td>\n",
       "      <td>0</td>\n",
       "      <td>27</td>\n",
       "      <td>27</td>\n",
       "    </tr>\n",
       "    <tr>\n",
       "      <th>137160</th>\n",
       "      <td>137160</td>\n",
       "      <td>0</td>\n",
       "      <td>11</td>\n",
       "      <td>8</td>\n",
       "    </tr>\n",
       "    <tr>\n",
       "      <th>137161</th>\n",
       "      <td>137161</td>\n",
       "      <td>0</td>\n",
       "      <td>33</td>\n",
       "      <td>11</td>\n",
       "    </tr>\n",
       "    <tr>\n",
       "      <th>137162</th>\n",
       "      <td>137162</td>\n",
       "      <td>0</td>\n",
       "      <td>28</td>\n",
       "      <td>28</td>\n",
       "    </tr>\n",
       "  </tbody>\n",
       "</table>\n",
       "</div>"
      ],
      "text/plain": [
       "        Unnamed: 0  TOT_PRSC_DD_CNT  MDCARE_DD_CNT  VSHSP_DD_CNT\n",
       "137153      137153                0             11             7\n",
       "137154      137154                0              2             2\n",
       "137155      137155                0             10             3\n",
       "137156      137156                0              2             2\n",
       "137157      137157                0              9             6\n",
       "137158      137158                0              7             4\n",
       "137159      137159                0             27            27\n",
       "137160      137160                0             11             8\n",
       "137161      137161                0             33            11\n",
       "137162      137162                0             28            28"
      ]
     },
     "execution_count": 36,
     "metadata": {},
     "output_type": "execute_result"
    }
   ],
   "source": [
    "df_M20_extract = pd.read_csv('../../datasets/M20_extract.csv')\n",
    "df_M20_extract[-10:]"
   ]
  },
  {
   "cell_type": "markdown",
   "id": "3f1bf33d-9977-4e7c-b73f-17b89054f46a",
   "metadata": {},
   "source": [
    "##### Structured data \n",
    "- 목표변수, Y, **Target**\n",
    "- 설명변수, X, **Label** "
   ]
  },
  {
   "cell_type": "code",
   "execution_count": 39,
   "id": "abf3a533-4285-44e0-bd28-e5be2136c0d8",
   "metadata": {
    "tags": []
   },
   "outputs": [
    {
     "data": {
      "text/plain": [
       "((137163,), (137163, 2))"
      ]
     },
     "execution_count": 39,
     "metadata": {},
     "output_type": "execute_result"
    }
   ],
   "source": [
    "target = df_M20_extract['TOT_PRSC_DD_CNT']\n",
    "labels = df_M20_extract[['MDCARE_DD_CNT', 'VSHSP_DD_CNT']]\n",
    "target.shape, labels.shape"
   ]
  },
  {
   "cell_type": "markdown",
   "id": "e495d65e-1bcb-49f4-8bec-e775fe3f15dd",
   "metadata": {},
   "source": [
    "#### 모델(알고리즘) 학습 "
   ]
  },
  {
   "cell_type": "markdown",
   "id": "0d044aa4-d1ca-4374-b1b8-81252aa3665a",
   "metadata": {},
   "source": [
    "##### 모델 학습\n",
    "- target datatype 종속 "
   ]
  },
  {
   "cell_type": "code",
   "execution_count": 40,
   "id": "5c153d9b-591c-41dd-8d47-d6e0bc27627c",
   "metadata": {
    "tags": []
   },
   "outputs": [],
   "source": [
    "from sklearn.linear_model import LinearRegression"
   ]
  },
  {
   "cell_type": "code",
   "execution_count": 41,
   "id": "2ba7b672-c7c4-4f9e-ad1d-1ad1ecf6b38b",
   "metadata": {
    "tags": []
   },
   "outputs": [
    {
     "data": {
      "text/html": [
       "<style>#sk-container-id-1 {color: black;background-color: white;}#sk-container-id-1 pre{padding: 0;}#sk-container-id-1 div.sk-toggleable {background-color: white;}#sk-container-id-1 label.sk-toggleable__label {cursor: pointer;display: block;width: 100%;margin-bottom: 0;padding: 0.3em;box-sizing: border-box;text-align: center;}#sk-container-id-1 label.sk-toggleable__label-arrow:before {content: \"▸\";float: left;margin-right: 0.25em;color: #696969;}#sk-container-id-1 label.sk-toggleable__label-arrow:hover:before {color: black;}#sk-container-id-1 div.sk-estimator:hover label.sk-toggleable__label-arrow:before {color: black;}#sk-container-id-1 div.sk-toggleable__content {max-height: 0;max-width: 0;overflow: hidden;text-align: left;background-color: #f0f8ff;}#sk-container-id-1 div.sk-toggleable__content pre {margin: 0.2em;color: black;border-radius: 0.25em;background-color: #f0f8ff;}#sk-container-id-1 input.sk-toggleable__control:checked~div.sk-toggleable__content {max-height: 200px;max-width: 100%;overflow: auto;}#sk-container-id-1 input.sk-toggleable__control:checked~label.sk-toggleable__label-arrow:before {content: \"▾\";}#sk-container-id-1 div.sk-estimator input.sk-toggleable__control:checked~label.sk-toggleable__label {background-color: #d4ebff;}#sk-container-id-1 div.sk-label input.sk-toggleable__control:checked~label.sk-toggleable__label {background-color: #d4ebff;}#sk-container-id-1 input.sk-hidden--visually {border: 0;clip: rect(1px 1px 1px 1px);clip: rect(1px, 1px, 1px, 1px);height: 1px;margin: -1px;overflow: hidden;padding: 0;position: absolute;width: 1px;}#sk-container-id-1 div.sk-estimator {font-family: monospace;background-color: #f0f8ff;border: 1px dotted black;border-radius: 0.25em;box-sizing: border-box;margin-bottom: 0.5em;}#sk-container-id-1 div.sk-estimator:hover {background-color: #d4ebff;}#sk-container-id-1 div.sk-parallel-item::after {content: \"\";width: 100%;border-bottom: 1px solid gray;flex-grow: 1;}#sk-container-id-1 div.sk-label:hover label.sk-toggleable__label {background-color: #d4ebff;}#sk-container-id-1 div.sk-serial::before {content: \"\";position: absolute;border-left: 1px solid gray;box-sizing: border-box;top: 0;bottom: 0;left: 50%;z-index: 0;}#sk-container-id-1 div.sk-serial {display: flex;flex-direction: column;align-items: center;background-color: white;padding-right: 0.2em;padding-left: 0.2em;position: relative;}#sk-container-id-1 div.sk-item {position: relative;z-index: 1;}#sk-container-id-1 div.sk-parallel {display: flex;align-items: stretch;justify-content: center;background-color: white;position: relative;}#sk-container-id-1 div.sk-item::before, #sk-container-id-1 div.sk-parallel-item::before {content: \"\";position: absolute;border-left: 1px solid gray;box-sizing: border-box;top: 0;bottom: 0;left: 50%;z-index: -1;}#sk-container-id-1 div.sk-parallel-item {display: flex;flex-direction: column;z-index: 1;position: relative;background-color: white;}#sk-container-id-1 div.sk-parallel-item:first-child::after {align-self: flex-end;width: 50%;}#sk-container-id-1 div.sk-parallel-item:last-child::after {align-self: flex-start;width: 50%;}#sk-container-id-1 div.sk-parallel-item:only-child::after {width: 0;}#sk-container-id-1 div.sk-dashed-wrapped {border: 1px dashed gray;margin: 0 0.4em 0.5em 0.4em;box-sizing: border-box;padding-bottom: 0.4em;background-color: white;}#sk-container-id-1 div.sk-label label {font-family: monospace;font-weight: bold;display: inline-block;line-height: 1.2em;}#sk-container-id-1 div.sk-label-container {text-align: center;}#sk-container-id-1 div.sk-container {/* jupyter's `normalize.less` sets `[hidden] { display: none; }` but bootstrap.min.css set `[hidden] { display: none !important; }` so we also need the `!important` here to be able to override the default hidden behavior on the sphinx rendered scikit-learn.org. See: https://github.com/scikit-learn/scikit-learn/issues/21755 */display: inline-block !important;position: relative;}#sk-container-id-1 div.sk-text-repr-fallback {display: none;}</style><div id=\"sk-container-id-1\" class=\"sk-top-container\"><div class=\"sk-text-repr-fallback\"><pre>LinearRegression()</pre><b>In a Jupyter environment, please rerun this cell to show the HTML representation or trust the notebook. <br />On GitHub, the HTML representation is unable to render, please try loading this page with nbviewer.org.</b></div><div class=\"sk-container\" hidden><div class=\"sk-item\"><div class=\"sk-estimator sk-toggleable\"><input class=\"sk-toggleable__control sk-hidden--visually\" id=\"sk-estimator-id-1\" type=\"checkbox\" checked><label for=\"sk-estimator-id-1\" class=\"sk-toggleable__label sk-toggleable__label-arrow\">LinearRegression</label><div class=\"sk-toggleable__content\"><pre>LinearRegression()</pre></div></div></div></div></div>"
      ],
      "text/plain": [
       "LinearRegression()"
      ]
     },
     "execution_count": 41,
     "metadata": {},
     "output_type": "execute_result"
    }
   ],
   "source": [
    "model = LinearRegression()\n",
    "model.fit(labels, target)"
   ]
  },
  {
   "cell_type": "markdown",
   "id": "ceb75f1f-9eb1-4a74-9fe5-f4fa303efd88",
   "metadata": {
    "tags": []
   },
   "source": [
    "#### 평가 "
   ]
  },
  {
   "cell_type": "code",
   "execution_count": 46,
   "id": "f1544e34-e1a3-4af4-b3a4-0f56b766c40c",
   "metadata": {
    "tags": []
   },
   "outputs": [
    {
     "data": {
      "text/plain": [
       "array([8.94833513, 8.94833513, 8.94833513, ..., 7.80871464, 3.68798597,\n",
       "       6.92538118])"
      ]
     },
     "execution_count": 46,
     "metadata": {},
     "output_type": "execute_result"
    }
   ],
   "source": [
    "target_predict = model.predict(labels)\n",
    "len(target_predict)\n",
    "target_predict"
   ]
  },
  {
   "cell_type": "code",
   "execution_count": 47,
   "id": "91583849-b6d2-4b08-9d17-6358546150e7",
   "metadata": {
    "tags": []
   },
   "outputs": [
    {
     "data": {
      "text/plain": [
       "0.0030173643581679066"
      ]
     },
     "execution_count": 47,
     "metadata": {},
     "output_type": "execute_result"
    }
   ],
   "source": [
    "from sklearn.metrics import r2_score\n",
    "r2_score(target, target_predict)"
   ]
  },
  {
   "cell_type": "markdown",
   "id": "032a5ff5-8fbb-4ada-b37d-5f088e902a4e",
   "metadata": {},
   "source": [
    "#### 미래예측(서비스 개시) "
   ]
  },
  {
   "cell_type": "code",
   "execution_count": 52,
   "id": "017d57c8-1e0a-4d64-abb3-dbe585b52265",
   "metadata": {
    "tags": []
   },
   "outputs": [
    {
     "data": {
      "text/html": [
       "<div>\n",
       "<style scoped>\n",
       "    .dataframe tbody tr th:only-of-type {\n",
       "        vertical-align: middle;\n",
       "    }\n",
       "\n",
       "    .dataframe tbody tr th {\n",
       "        vertical-align: top;\n",
       "    }\n",
       "\n",
       "    .dataframe thead th {\n",
       "        text-align: right;\n",
       "    }\n",
       "</style>\n",
       "<table border=\"1\" class=\"dataframe\">\n",
       "  <thead>\n",
       "    <tr style=\"text-align: right;\">\n",
       "      <th></th>\n",
       "      <th>Unnamed: 0</th>\n",
       "      <th>TOT_PRSC_DD_CNT</th>\n",
       "      <th>MDCARE_DD_CNT</th>\n",
       "      <th>VSHSP_DD_CNT</th>\n",
       "    </tr>\n",
       "  </thead>\n",
       "  <tbody>\n",
       "    <tr>\n",
       "      <th>300</th>\n",
       "      <td>300</td>\n",
       "      <td>0</td>\n",
       "      <td>1</td>\n",
       "      <td>1</td>\n",
       "    </tr>\n",
       "    <tr>\n",
       "      <th>301</th>\n",
       "      <td>301</td>\n",
       "      <td>0</td>\n",
       "      <td>1</td>\n",
       "      <td>1</td>\n",
       "    </tr>\n",
       "    <tr>\n",
       "      <th>302</th>\n",
       "      <td>302</td>\n",
       "      <td>3</td>\n",
       "      <td>1</td>\n",
       "      <td>1</td>\n",
       "    </tr>\n",
       "    <tr>\n",
       "      <th>303</th>\n",
       "      <td>303</td>\n",
       "      <td>3</td>\n",
       "      <td>1</td>\n",
       "      <td>1</td>\n",
       "    </tr>\n",
       "    <tr>\n",
       "      <th>304</th>\n",
       "      <td>304</td>\n",
       "      <td>1</td>\n",
       "      <td>1</td>\n",
       "      <td>1</td>\n",
       "    </tr>\n",
       "  </tbody>\n",
       "</table>\n",
       "</div>"
      ],
      "text/plain": [
       "     Unnamed: 0  TOT_PRSC_DD_CNT  MDCARE_DD_CNT  VSHSP_DD_CNT\n",
       "300         300                0              1             1\n",
       "301         301                0              1             1\n",
       "302         302                3              1             1\n",
       "303         303                3              1             1\n",
       "304         304                1              1             1"
      ]
     },
     "execution_count": 52,
     "metadata": {},
     "output_type": "execute_result"
    }
   ],
   "source": [
    "df_M20_extract[300:305]"
   ]
  },
  {
   "cell_type": "code",
   "execution_count": 53,
   "id": "4df8f932-c0fc-49b4-8f8c-956975516a69",
   "metadata": {
    "tags": []
   },
   "outputs": [],
   "source": [
    "temp_label = [[1,1]] "
   ]
  },
  {
   "cell_type": "code",
   "execution_count": 54,
   "id": "c3f58d7f-9c6b-4b64-ae8b-5f2626b70f53",
   "metadata": {
    "tags": []
   },
   "outputs": [
    {
     "name": "stderr",
     "output_type": "stream",
     "text": [
      "C:\\Users\\5-21\\anaconda3\\Lib\\site-packages\\sklearn\\base.py:439: UserWarning: X does not have valid feature names, but LinearRegression was fitted with feature names\n",
      "  warnings.warn(\n"
     ]
    },
    {
     "data": {
      "text/plain": [
       "array([8.94833513])"
      ]
     },
     "execution_count": 54,
     "metadata": {},
     "output_type": "execute_result"
    }
   ],
   "source": [
    "model.predict(temp_label)"
   ]
  }
 ],
 "metadata": {
  "kernelspec": {
   "display_name": "Python 3 (ipykernel)",
   "language": "python",
   "name": "python3"
  },
  "language_info": {
   "codemirror_mode": {
    "name": "ipython",
    "version": 3
   },
   "file_extension": ".py",
   "mimetype": "text/x-python",
   "name": "python",
   "nbconvert_exporter": "python",
   "pygments_lexer": "ipython3",
   "version": "3.11.3"
  }
 },
 "nbformat": 4,
 "nbformat_minor": 5
}
