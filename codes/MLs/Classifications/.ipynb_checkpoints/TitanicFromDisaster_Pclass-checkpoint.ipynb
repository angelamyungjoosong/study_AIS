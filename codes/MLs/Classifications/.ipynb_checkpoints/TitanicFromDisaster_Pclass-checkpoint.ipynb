{
 "cells": [
  {
   "cell_type": "markdown",
   "id": "799dfb7b-ee63-4591-9b89-fe7226c49911",
   "metadata": {},
   "source": [
    "##### 지도학습"
   ]
  },
  {
   "cell_type": "markdown",
   "id": "53868fc6-fd3c-4856-af38-013f7ab8f73c",
   "metadata": {},
   "source": [
    "#### 분류- 다항분류 "
   ]
  },
  {
   "cell_type": "code",
   "execution_count": 4,
   "id": "e4fb1c72-b5c8-439d-ab9e-a37b487d1644",
   "metadata": {
    "tags": []
   },
   "outputs": [
    {
     "data": {
      "text/html": [
       "<div>\n",
       "<style scoped>\n",
       "    .dataframe tbody tr th:only-of-type {\n",
       "        vertical-align: middle;\n",
       "    }\n",
       "\n",
       "    .dataframe tbody tr th {\n",
       "        vertical-align: top;\n",
       "    }\n",
       "\n",
       "    .dataframe thead th {\n",
       "        text-align: right;\n",
       "    }\n",
       "</style>\n",
       "<table border=\"1\" class=\"dataframe\">\n",
       "  <thead>\n",
       "    <tr style=\"text-align: right;\">\n",
       "      <th></th>\n",
       "      <th>PassengerId</th>\n",
       "      <th>Survived</th>\n",
       "      <th>Pclass</th>\n",
       "      <th>Name</th>\n",
       "      <th>Sex</th>\n",
       "      <th>Age</th>\n",
       "      <th>SibSp</th>\n",
       "      <th>Parch</th>\n",
       "      <th>Ticket</th>\n",
       "      <th>Fare</th>\n",
       "      <th>Cabin</th>\n",
       "      <th>Embarked</th>\n",
       "    </tr>\n",
       "  </thead>\n",
       "  <tbody>\n",
       "    <tr>\n",
       "      <th>0</th>\n",
       "      <td>1</td>\n",
       "      <td>0</td>\n",
       "      <td>3</td>\n",
       "      <td>Braund, Mr. Owen Harris</td>\n",
       "      <td>male</td>\n",
       "      <td>22.0</td>\n",
       "      <td>1</td>\n",
       "      <td>0</td>\n",
       "      <td>A/5 21171</td>\n",
       "      <td>7.2500</td>\n",
       "      <td>NaN</td>\n",
       "      <td>S</td>\n",
       "    </tr>\n",
       "    <tr>\n",
       "      <th>1</th>\n",
       "      <td>2</td>\n",
       "      <td>1</td>\n",
       "      <td>1</td>\n",
       "      <td>Cumings, Mrs. John Bradley (Florence Briggs Th...</td>\n",
       "      <td>female</td>\n",
       "      <td>38.0</td>\n",
       "      <td>1</td>\n",
       "      <td>0</td>\n",
       "      <td>PC 17599</td>\n",
       "      <td>71.2833</td>\n",
       "      <td>C85</td>\n",
       "      <td>C</td>\n",
       "    </tr>\n",
       "  </tbody>\n",
       "</table>\n",
       "</div>"
      ],
      "text/plain": [
       "   PassengerId  Survived  Pclass  \\\n",
       "0            1         0       3   \n",
       "1            2         1       1   \n",
       "\n",
       "                                                Name     Sex   Age  SibSp  \\\n",
       "0                            Braund, Mr. Owen Harris    male  22.0      1   \n",
       "1  Cumings, Mrs. John Bradley (Florence Briggs Th...  female  38.0      1   \n",
       "\n",
       "   Parch     Ticket     Fare Cabin Embarked  \n",
       "0      0  A/5 21171   7.2500   NaN        S  \n",
       "1      0   PC 17599  71.2833   C85        C  "
      ]
     },
     "execution_count": 4,
     "metadata": {},
     "output_type": "execute_result"
    }
   ],
   "source": [
    "import pandas as pd \n",
    "df_TFD = pd.read_csv('../../../../datasets/TitanicFromDisaster_train.csv')\n",
    "df_TFD[:2]"
   ]
  },
  {
   "cell_type": "code",
   "execution_count": 6,
   "id": "720bc2f9-f3d4-4a3a-a4f6-19f644ff895a",
   "metadata": {
    "tags": []
   },
   "outputs": [
    {
     "data": {
      "text/plain": [
       "Survived      0\n",
       "Pclass        0\n",
       "Age         177\n",
       "Fare          0\n",
       "dtype: int64"
      ]
     },
     "execution_count": 6,
     "metadata": {},
     "output_type": "execute_result"
    }
   ],
   "source": [
    "df_TFD.columns\n",
    "df_TFD_extract = df_TFD[['Survived', 'Pclass', 'Age', 'Fare']]\n",
    "df_TFD_extract.isnull().sum()"
   ]
  },
  {
   "cell_type": "code",
   "execution_count": 7,
   "id": "284995d2-6d3b-4170-aca9-53c1a4af7812",
   "metadata": {
    "tags": []
   },
   "outputs": [
    {
     "data": {
      "text/html": [
       "<div>\n",
       "<style scoped>\n",
       "    .dataframe tbody tr th:only-of-type {\n",
       "        vertical-align: middle;\n",
       "    }\n",
       "\n",
       "    .dataframe tbody tr th {\n",
       "        vertical-align: top;\n",
       "    }\n",
       "\n",
       "    .dataframe thead th {\n",
       "        text-align: right;\n",
       "    }\n",
       "</style>\n",
       "<table border=\"1\" class=\"dataframe\">\n",
       "  <thead>\n",
       "    <tr style=\"text-align: right;\">\n",
       "      <th></th>\n",
       "      <th>Survived</th>\n",
       "      <th>Pclass</th>\n",
       "      <th>Age</th>\n",
       "      <th>Fare</th>\n",
       "    </tr>\n",
       "  </thead>\n",
       "  <tbody>\n",
       "    <tr>\n",
       "      <th>0</th>\n",
       "      <td>0</td>\n",
       "      <td>3</td>\n",
       "      <td>22.0</td>\n",
       "      <td>7.2500</td>\n",
       "    </tr>\n",
       "    <tr>\n",
       "      <th>1</th>\n",
       "      <td>1</td>\n",
       "      <td>1</td>\n",
       "      <td>38.0</td>\n",
       "      <td>71.2833</td>\n",
       "    </tr>\n",
       "  </tbody>\n",
       "</table>\n",
       "</div>"
      ],
      "text/plain": [
       "   Survived  Pclass   Age     Fare\n",
       "0         0       3  22.0   7.2500\n",
       "1         1       1  38.0  71.2833"
      ]
     },
     "execution_count": 7,
     "metadata": {},
     "output_type": "execute_result"
    }
   ],
   "source": [
    "df_TFD_extract_preprocess = df_TFD_extract.dropna()\n",
    "df_TFD_extract_preprocess[:2]"
   ]
  },
  {
   "cell_type": "markdown",
   "id": "23c044c9-e637-42b1-9571-5425cad769e5",
   "metadata": {},
   "source": [
    "#### 정형화 "
   ]
  },
  {
   "cell_type": "code",
   "execution_count": 8,
   "id": "2bf277e5-89f3-47f3-8b3a-b17a0acf3b5a",
   "metadata": {
    "tags": []
   },
   "outputs": [
    {
     "data": {
      "text/plain": [
       "((714,), (714, 3))"
      ]
     },
     "execution_count": 8,
     "metadata": {},
     "output_type": "execute_result"
    }
   ],
   "source": [
    "#학습을 위한 목표변수, 설명변수 나누기 -  오늘은 군집까지 가서 평가 후 모델의 성능 올리는 것까지 \n",
    "#df_TFD_extract_preprocess['Pclass'].value_counts() #3개\n",
    "target_train = df_TFD_extract_preprocess['Pclass'] #목표변수 \n",
    "features_train = df_TFD_extract_preprocess.drop(columns=['Pclass']) #설명변수\n",
    "target_train.shape, features_train.shape #사이즈확인 "
   ]
  },
  {
   "cell_type": "markdown",
   "id": "ac1667ba-9f28-4f50-a422-f4b08a810c80",
   "metadata": {},
   "source": [
    "#### 모델 학습"
   ]
  },
  {
   "cell_type": "code",
   "execution_count": 9,
   "id": "3cb96409-5342-41c6-a286-7f15f5b666ed",
   "metadata": {
    "tags": []
   },
   "outputs": [
    {
     "data": {
      "text/html": [
       "<style>#sk-container-id-1 {color: black;background-color: white;}#sk-container-id-1 pre{padding: 0;}#sk-container-id-1 div.sk-toggleable {background-color: white;}#sk-container-id-1 label.sk-toggleable__label {cursor: pointer;display: block;width: 100%;margin-bottom: 0;padding: 0.3em;box-sizing: border-box;text-align: center;}#sk-container-id-1 label.sk-toggleable__label-arrow:before {content: \"▸\";float: left;margin-right: 0.25em;color: #696969;}#sk-container-id-1 label.sk-toggleable__label-arrow:hover:before {color: black;}#sk-container-id-1 div.sk-estimator:hover label.sk-toggleable__label-arrow:before {color: black;}#sk-container-id-1 div.sk-toggleable__content {max-height: 0;max-width: 0;overflow: hidden;text-align: left;background-color: #f0f8ff;}#sk-container-id-1 div.sk-toggleable__content pre {margin: 0.2em;color: black;border-radius: 0.25em;background-color: #f0f8ff;}#sk-container-id-1 input.sk-toggleable__control:checked~div.sk-toggleable__content {max-height: 200px;max-width: 100%;overflow: auto;}#sk-container-id-1 input.sk-toggleable__control:checked~label.sk-toggleable__label-arrow:before {content: \"▾\";}#sk-container-id-1 div.sk-estimator input.sk-toggleable__control:checked~label.sk-toggleable__label {background-color: #d4ebff;}#sk-container-id-1 div.sk-label input.sk-toggleable__control:checked~label.sk-toggleable__label {background-color: #d4ebff;}#sk-container-id-1 input.sk-hidden--visually {border: 0;clip: rect(1px 1px 1px 1px);clip: rect(1px, 1px, 1px, 1px);height: 1px;margin: -1px;overflow: hidden;padding: 0;position: absolute;width: 1px;}#sk-container-id-1 div.sk-estimator {font-family: monospace;background-color: #f0f8ff;border: 1px dotted black;border-radius: 0.25em;box-sizing: border-box;margin-bottom: 0.5em;}#sk-container-id-1 div.sk-estimator:hover {background-color: #d4ebff;}#sk-container-id-1 div.sk-parallel-item::after {content: \"\";width: 100%;border-bottom: 1px solid gray;flex-grow: 1;}#sk-container-id-1 div.sk-label:hover label.sk-toggleable__label {background-color: #d4ebff;}#sk-container-id-1 div.sk-serial::before {content: \"\";position: absolute;border-left: 1px solid gray;box-sizing: border-box;top: 0;bottom: 0;left: 50%;z-index: 0;}#sk-container-id-1 div.sk-serial {display: flex;flex-direction: column;align-items: center;background-color: white;padding-right: 0.2em;padding-left: 0.2em;position: relative;}#sk-container-id-1 div.sk-item {position: relative;z-index: 1;}#sk-container-id-1 div.sk-parallel {display: flex;align-items: stretch;justify-content: center;background-color: white;position: relative;}#sk-container-id-1 div.sk-item::before, #sk-container-id-1 div.sk-parallel-item::before {content: \"\";position: absolute;border-left: 1px solid gray;box-sizing: border-box;top: 0;bottom: 0;left: 50%;z-index: -1;}#sk-container-id-1 div.sk-parallel-item {display: flex;flex-direction: column;z-index: 1;position: relative;background-color: white;}#sk-container-id-1 div.sk-parallel-item:first-child::after {align-self: flex-end;width: 50%;}#sk-container-id-1 div.sk-parallel-item:last-child::after {align-self: flex-start;width: 50%;}#sk-container-id-1 div.sk-parallel-item:only-child::after {width: 0;}#sk-container-id-1 div.sk-dashed-wrapped {border: 1px dashed gray;margin: 0 0.4em 0.5em 0.4em;box-sizing: border-box;padding-bottom: 0.4em;background-color: white;}#sk-container-id-1 div.sk-label label {font-family: monospace;font-weight: bold;display: inline-block;line-height: 1.2em;}#sk-container-id-1 div.sk-label-container {text-align: center;}#sk-container-id-1 div.sk-container {/* jupyter's `normalize.less` sets `[hidden] { display: none; }` but bootstrap.min.css set `[hidden] { display: none !important; }` so we also need the `!important` here to be able to override the default hidden behavior on the sphinx rendered scikit-learn.org. See: https://github.com/scikit-learn/scikit-learn/issues/21755 */display: inline-block !important;position: relative;}#sk-container-id-1 div.sk-text-repr-fallback {display: none;}</style><div id=\"sk-container-id-1\" class=\"sk-top-container\"><div class=\"sk-text-repr-fallback\"><pre>DecisionTreeClassifier()</pre><b>In a Jupyter environment, please rerun this cell to show the HTML representation or trust the notebook. <br />On GitHub, the HTML representation is unable to render, please try loading this page with nbviewer.org.</b></div><div class=\"sk-container\" hidden><div class=\"sk-item\"><div class=\"sk-estimator sk-toggleable\"><input class=\"sk-toggleable__control sk-hidden--visually\" id=\"sk-estimator-id-1\" type=\"checkbox\" checked><label for=\"sk-estimator-id-1\" class=\"sk-toggleable__label sk-toggleable__label-arrow\">DecisionTreeClassifier</label><div class=\"sk-toggleable__content\"><pre>DecisionTreeClassifier()</pre></div></div></div></div></div>"
      ],
      "text/plain": [
       "DecisionTreeClassifier()"
      ]
     },
     "execution_count": 9,
     "metadata": {},
     "output_type": "execute_result"
    }
   ],
   "source": [
    "#트리에 의해 모델이 학습되는 방식 #트리가 성능이 더 좋다 \n",
    "from sklearn.tree import DecisionTreeClassifier \n",
    "model = DecisionTreeClassifier()\n",
    "model.fit(features_train, target_train) #학습"
   ]
  },
  {
   "cell_type": "code",
   "execution_count": 10,
   "id": "a203fffe-1948-4070-8588-41b7df4e6390",
   "metadata": {
    "tags": []
   },
   "outputs": [],
   "source": [
    "import matplotlib.pyplot as plt\n",
    "from sklearn.tree import plot_tree \n",
    "#모델이 들어가. 이름이 들어가야 식별 가능. "
   ]
  },
  {
   "cell_type": "code",
   "execution_count": 11,
   "id": "c8c1f44b-104c-4524-9aa0-2d4e6aa981ed",
   "metadata": {
    "tags": []
   },
   "outputs": [
    {
     "data": {
      "text/plain": [
       "['Survived', 'Age', 'Fare']"
      ]
     },
     "execution_count": 11,
     "metadata": {},
     "output_type": "execute_result"
    }
   ],
   "source": [
    "features_train.columns.to_list() #pandas장점"
   ]
  },
  {
   "cell_type": "code",
   "execution_count": 12,
   "id": "aac70746-16f0-47af-b058-12a804813bd1",
   "metadata": {
    "collapsed": true,
    "jupyter": {
     "outputs_hidden": true
    },
    "tags": []
   },
   "outputs": [
    {
     "data": {
      "text/plain": [
       "[Text(0.2615301724137931, 0.9666666666666667, 'Fare <= 10.481\\ngini = 0.626\\nsamples = 714\\nvalue = [186, 173, 355]'),\n",
       " Text(0.05517241379310345, 0.9, 'Fare <= 5.619\\ngini = 0.033\\nsamples = 239\\nvalue = [4, 0, 235]'),\n",
       " Text(0.041379310344827586, 0.8333333333333334, 'Age <= 29.0\\ngini = 0.494\\nsamples = 9\\nvalue = [4, 0, 5]'),\n",
       " Text(0.027586206896551724, 0.7666666666666667, 'gini = 0.0\\nsamples = 3\\nvalue = [0, 0, 3]'),\n",
       " Text(0.05517241379310345, 0.7666666666666667, 'Age <= 44.5\\ngini = 0.444\\nsamples = 6\\nvalue = [4, 0, 2]'),\n",
       " Text(0.041379310344827586, 0.7, 'Age <= 37.0\\ngini = 0.32\\nsamples = 5\\nvalue = [4, 0, 1]'),\n",
       " Text(0.027586206896551724, 0.6333333333333333, 'Fare <= 2.5\\ngini = 0.5\\nsamples = 2\\nvalue = [1, 0, 1]'),\n",
       " Text(0.013793103448275862, 0.5666666666666667, 'gini = 0.0\\nsamples = 1\\nvalue = [0, 0, 1]'),\n",
       " Text(0.041379310344827586, 0.5666666666666667, 'gini = 0.0\\nsamples = 1\\nvalue = [1, 0, 0]'),\n",
       " Text(0.05517241379310345, 0.6333333333333333, 'gini = 0.0\\nsamples = 3\\nvalue = [3, 0, 0]'),\n",
       " Text(0.06896551724137931, 0.7, 'gini = 0.0\\nsamples = 1\\nvalue = [0, 0, 1]'),\n",
       " Text(0.06896551724137931, 0.8333333333333334, 'gini = 0.0\\nsamples = 230\\nvalue = [0, 0, 230]'),\n",
       " Text(0.4678879310344828, 0.9, 'Fare <= 26.267\\ngini = 0.657\\nsamples = 475\\nvalue = [182, 173, 120]'),\n",
       " Text(0.24655172413793103, 0.8333333333333334, 'Fare <= 14.054\\ngini = 0.478\\nsamples = 223\\nvalue = [4, 141, 78]'),\n",
       " Text(0.1103448275862069, 0.7666666666666667, 'Age <= 15.0\\ngini = 0.221\\nsamples = 95\\nvalue = [0, 83, 12]'),\n",
       " Text(0.09655172413793103, 0.7, 'gini = 0.0\\nsamples = 8\\nvalue = [0, 0, 8]'),\n",
       " Text(0.12413793103448276, 0.7, 'Fare <= 12.5\\ngini = 0.088\\nsamples = 87\\nvalue = [0, 83, 4]'),\n",
       " Text(0.1103448275862069, 0.6333333333333333, 'Fare <= 12.413\\ngini = 0.198\\nsamples = 36\\nvalue = [0, 32, 4]'),\n",
       " Text(0.09655172413793103, 0.5666666666666667, 'Fare <= 10.508\\ngini = 0.111\\nsamples = 34\\nvalue = [0, 32, 2]'),\n",
       " Text(0.08275862068965517, 0.5, 'gini = 0.0\\nsamples = 24\\nvalue = [0, 24, 0]'),\n",
       " Text(0.1103448275862069, 0.5, 'Fare <= 11.317\\ngini = 0.32\\nsamples = 10\\nvalue = [0, 8, 2]'),\n",
       " Text(0.09655172413793103, 0.43333333333333335, 'gini = 0.0\\nsamples = 2\\nvalue = [0, 0, 2]'),\n",
       " Text(0.12413793103448276, 0.43333333333333335, 'gini = 0.0\\nsamples = 8\\nvalue = [0, 8, 0]'),\n",
       " Text(0.12413793103448276, 0.5666666666666667, 'gini = 0.0\\nsamples = 2\\nvalue = [0, 0, 2]'),\n",
       " Text(0.13793103448275862, 0.6333333333333333, 'gini = 0.0\\nsamples = 51\\nvalue = [0, 51, 0]'),\n",
       " Text(0.38275862068965516, 0.7666666666666667, 'Fare <= 25.965\\ngini = 0.528\\nsamples = 128\\nvalue = [4, 58, 66]'),\n",
       " Text(0.32413793103448274, 0.7, 'Fare <= 20.788\\ngini = 0.422\\nsamples = 92\\nvalue = [3, 23, 66]'),\n",
       " Text(0.2482758620689655, 0.6333333333333333, 'Survived <= 0.5\\ngini = 0.278\\nsamples = 66\\nvalue = [0, 11, 55]'),\n",
       " Text(0.19310344827586207, 0.5666666666666667, 'Age <= 46.0\\ngini = 0.102\\nsamples = 37\\nvalue = [0, 2, 35]'),\n",
       " Text(0.16551724137931034, 0.5, 'Fare <= 15.146\\ngini = 0.056\\nsamples = 35\\nvalue = [0, 1, 34]'),\n",
       " Text(0.15172413793103448, 0.43333333333333335, 'Fare <= 14.773\\ngini = 0.153\\nsamples = 12\\nvalue = [0, 1, 11]'),\n",
       " Text(0.13793103448275862, 0.36666666666666664, 'gini = 0.0\\nsamples = 11\\nvalue = [0, 0, 11]'),\n",
       " Text(0.16551724137931034, 0.36666666666666664, 'gini = 0.0\\nsamples = 1\\nvalue = [0, 1, 0]'),\n",
       " Text(0.1793103448275862, 0.43333333333333335, 'gini = 0.0\\nsamples = 23\\nvalue = [0, 0, 23]'),\n",
       " Text(0.2206896551724138, 0.5, 'Fare <= 14.75\\ngini = 0.5\\nsamples = 2\\nvalue = [0, 1, 1]'),\n",
       " Text(0.20689655172413793, 0.43333333333333335, 'gini = 0.0\\nsamples = 1\\nvalue = [0, 0, 1]'),\n",
       " Text(0.23448275862068965, 0.43333333333333335, 'gini = 0.0\\nsamples = 1\\nvalue = [0, 1, 0]'),\n",
       " Text(0.30344827586206896, 0.5666666666666667, 'Age <= 38.0\\ngini = 0.428\\nsamples = 29\\nvalue = [0, 9, 20]'),\n",
       " Text(0.2896551724137931, 0.5, 'Fare <= 14.873\\ngini = 0.355\\nsamples = 26\\nvalue = [0, 6, 20]'),\n",
       " Text(0.2620689655172414, 0.43333333333333335, 'Fare <= 14.477\\ngini = 0.444\\nsamples = 3\\nvalue = [0, 2, 1]'),\n",
       " Text(0.2482758620689655, 0.36666666666666664, 'gini = 0.0\\nsamples = 1\\nvalue = [0, 0, 1]'),\n",
       " Text(0.27586206896551724, 0.36666666666666664, 'gini = 0.0\\nsamples = 2\\nvalue = [0, 2, 0]'),\n",
       " Text(0.31724137931034485, 0.43333333333333335, 'Fare <= 18.075\\ngini = 0.287\\nsamples = 23\\nvalue = [0, 4, 19]'),\n",
       " Text(0.30344827586206896, 0.36666666666666664, 'gini = 0.0\\nsamples = 10\\nvalue = [0, 0, 10]'),\n",
       " Text(0.3310344827586207, 0.36666666666666664, 'Fare <= 18.769\\ngini = 0.426\\nsamples = 13\\nvalue = [0, 4, 9]'),\n",
       " Text(0.31724137931034485, 0.3, 'gini = 0.0\\nsamples = 3\\nvalue = [0, 3, 0]'),\n",
       " Text(0.3448275862068966, 0.3, 'Age <= 11.0\\ngini = 0.18\\nsamples = 10\\nvalue = [0, 1, 9]'),\n",
       " Text(0.3310344827586207, 0.23333333333333334, 'gini = 0.0\\nsamples = 5\\nvalue = [0, 0, 5]'),\n",
       " Text(0.3586206896551724, 0.23333333333333334, 'Age <= 18.5\\ngini = 0.32\\nsamples = 5\\nvalue = [0, 1, 4]'),\n",
       " Text(0.3448275862068966, 0.16666666666666666, 'gini = 0.0\\nsamples = 1\\nvalue = [0, 1, 0]'),\n",
       " Text(0.3724137931034483, 0.16666666666666666, 'gini = 0.0\\nsamples = 4\\nvalue = [0, 0, 4]'),\n",
       " Text(0.31724137931034485, 0.5, 'gini = 0.0\\nsamples = 3\\nvalue = [0, 3, 0]'),\n",
       " Text(0.4, 0.6333333333333333, 'Fare <= 24.869\\ngini = 0.595\\nsamples = 26\\nvalue = [3, 12, 11]'),\n",
       " Text(0.38620689655172413, 0.5666666666666667, 'Fare <= 21.038\\ngini = 0.499\\nsamples = 23\\nvalue = [0, 12, 11]'),\n",
       " Text(0.3724137931034483, 0.5, 'gini = 0.0\\nsamples = 6\\nvalue = [0, 6, 0]'),\n",
       " Text(0.4, 0.5, 'Survived <= 0.5\\ngini = 0.457\\nsamples = 17\\nvalue = [0, 6, 11]'),\n",
       " Text(0.3724137931034483, 0.43333333333333335, 'Age <= 29.5\\ngini = 0.165\\nsamples = 11\\nvalue = [0, 1, 10]'),\n",
       " Text(0.3586206896551724, 0.36666666666666664, 'gini = 0.0\\nsamples = 7\\nvalue = [0, 0, 7]'),\n",
       " Text(0.38620689655172413, 0.36666666666666664, 'Fare <= 24.075\\ngini = 0.375\\nsamples = 4\\nvalue = [0, 1, 3]'),\n",
       " Text(0.3724137931034483, 0.3, 'gini = 0.0\\nsamples = 1\\nvalue = [0, 1, 0]'),\n",
       " Text(0.4, 0.3, 'gini = 0.0\\nsamples = 3\\nvalue = [0, 0, 3]'),\n",
       " Text(0.42758620689655175, 0.43333333333333335, 'Fare <= 22.512\\ngini = 0.278\\nsamples = 6\\nvalue = [0, 5, 1]'),\n",
       " Text(0.41379310344827586, 0.36666666666666664, 'gini = 0.0\\nsamples = 1\\nvalue = [0, 0, 1]'),\n",
       " Text(0.4413793103448276, 0.36666666666666664, 'gini = 0.0\\nsamples = 5\\nvalue = [0, 5, 0]'),\n",
       " Text(0.41379310344827586, 0.5666666666666667, 'gini = 0.0\\nsamples = 3\\nvalue = [3, 0, 0]'),\n",
       " Text(0.4413793103448276, 0.7, 'Age <= 59.0\\ngini = 0.054\\nsamples = 36\\nvalue = [1, 35, 0]'),\n",
       " Text(0.42758620689655175, 0.6333333333333333, 'gini = 0.0\\nsamples = 35\\nvalue = [0, 35, 0]'),\n",
       " Text(0.45517241379310347, 0.6333333333333333, 'gini = 0.0\\nsamples = 1\\nvalue = [1, 0, 0]'),\n",
       " Text(0.6892241379310344, 0.8333333333333334, 'Age <= 14.5\\ngini = 0.457\\nsamples = 252\\nvalue = [178, 32, 42]'),\n",
       " Text(0.5413793103448276, 0.7666666666666667, 'Survived <= 0.5\\ngini = 0.519\\nsamples = 39\\nvalue = [5, 9, 25]'),\n",
       " Text(0.5137931034482759, 0.7, 'Fare <= 99.225\\ngini = 0.08\\nsamples = 24\\nvalue = [1, 0, 23]'),\n",
       " Text(0.5, 0.6333333333333333, 'gini = 0.0\\nsamples = 23\\nvalue = [0, 0, 23]'),\n",
       " Text(0.5275862068965518, 0.6333333333333333, 'gini = 0.0\\nsamples = 1\\nvalue = [1, 0, 0]'),\n",
       " Text(0.5689655172413793, 0.7, 'Fare <= 61.719\\ngini = 0.551\\nsamples = 15\\nvalue = [4, 9, 2]'),\n",
       " Text(0.5551724137931034, 0.6333333333333333, 'Fare <= 32.194\\ngini = 0.298\\nsamples = 11\\nvalue = [0, 9, 2]'),\n",
       " Text(0.5413793103448276, 0.5666666666666667, 'Fare <= 30.729\\ngini = 0.48\\nsamples = 5\\nvalue = [0, 3, 2]'),\n",
       " Text(0.5275862068965518, 0.5, 'gini = 0.0\\nsamples = 3\\nvalue = [0, 3, 0]'),\n",
       " Text(0.5551724137931034, 0.5, 'gini = 0.0\\nsamples = 2\\nvalue = [0, 0, 2]'),\n",
       " Text(0.5689655172413793, 0.5666666666666667, 'gini = 0.0\\nsamples = 6\\nvalue = [0, 6, 0]'),\n",
       " Text(0.5827586206896552, 0.6333333333333333, 'gini = 0.0\\nsamples = 4\\nvalue = [4, 0, 0]'),\n",
       " Text(0.8370689655172414, 0.7666666666666667, 'Fare <= 74.375\\ngini = 0.322\\nsamples = 213\\nvalue = [173, 23, 17]'),\n",
       " Text(0.8232758620689655, 0.7, 'Fare <= 72.392\\ngini = 0.475\\nsamples = 129\\nvalue = [89, 23, 17]'),\n",
       " Text(0.8094827586206896, 0.6333333333333333, 'Age <= 43.5\\ngini = 0.445\\nsamples = 124\\nvalue = [89, 18, 17]'),\n",
       " Text(0.6810344827586207, 0.5666666666666667, 'Fare <= 47.0\\ngini = 0.55\\nsamples = 80\\nvalue = [49, 16, 15]'),\n",
       " Text(0.5827586206896552, 0.5, 'Fare <= 31.137\\ngini = 0.644\\nsamples = 47\\nvalue = [21, 15, 11]'),\n",
       " Text(0.4827586206896552, 0.43333333333333335, 'Fare <= 26.775\\ngini = 0.5\\nsamples = 28\\nvalue = [18, 8, 2]'),\n",
       " Text(0.4689655172413793, 0.36666666666666664, 'gini = 0.0\\nsamples = 8\\nvalue = [8, 0, 0]'),\n",
       " Text(0.496551724137931, 0.36666666666666664, 'Fare <= 29.413\\ngini = 0.58\\nsamples = 20\\nvalue = [10, 8, 2]'),\n",
       " Text(0.4482758620689655, 0.3, 'Age <= 37.5\\ngini = 0.56\\nsamples = 10\\nvalue = [2, 6, 2]'),\n",
       " Text(0.4206896551724138, 0.23333333333333334, 'Survived <= 0.5\\ngini = 0.278\\nsamples = 6\\nvalue = [1, 5, 0]'),\n",
       " Text(0.4068965517241379, 0.16666666666666666, 'Age <= 29.5\\ngini = 0.444\\nsamples = 3\\nvalue = [1, 2, 0]'),\n",
       " Text(0.3931034482758621, 0.1, 'gini = 0.0\\nsamples = 1\\nvalue = [0, 1, 0]'),\n",
       " Text(0.4206896551724138, 0.1, 'Age <= 33.0\\ngini = 0.5\\nsamples = 2\\nvalue = [1, 1, 0]'),\n",
       " Text(0.4068965517241379, 0.03333333333333333, 'gini = 0.0\\nsamples = 1\\nvalue = [1, 0, 0]'),\n",
       " Text(0.43448275862068964, 0.03333333333333333, 'gini = 0.0\\nsamples = 1\\nvalue = [0, 1, 0]'),\n",
       " Text(0.43448275862068964, 0.16666666666666666, 'gini = 0.0\\nsamples = 3\\nvalue = [0, 3, 0]'),\n",
       " Text(0.47586206896551725, 0.23333333333333334, 'Fare <= 27.81\\ngini = 0.625\\nsamples = 4\\nvalue = [1, 1, 2]'),\n",
       " Text(0.46206896551724136, 0.16666666666666666, 'Age <= 41.0\\ngini = 0.5\\nsamples = 2\\nvalue = [1, 1, 0]'),\n",
       " Text(0.4482758620689655, 0.1, 'gini = 0.0\\nsamples = 1\\nvalue = [1, 0, 0]'),\n",
       " Text(0.47586206896551725, 0.1, 'gini = 0.0\\nsamples = 1\\nvalue = [0, 1, 0]'),\n",
       " Text(0.4896551724137931, 0.16666666666666666, 'gini = 0.0\\nsamples = 2\\nvalue = [0, 0, 2]'),\n",
       " Text(0.5448275862068965, 0.3, 'Fare <= 30.285\\ngini = 0.32\\nsamples = 10\\nvalue = [8, 2, 0]'),\n",
       " Text(0.5310344827586206, 0.23333333333333334, 'Fare <= 30.035\\ngini = 0.444\\nsamples = 6\\nvalue = [4, 2, 0]'),\n",
       " Text(0.5172413793103449, 0.16666666666666666, 'Age <= 25.5\\ngini = 0.32\\nsamples = 5\\nvalue = [4, 1, 0]'),\n",
       " Text(0.503448275862069, 0.1, 'Age <= 22.0\\ngini = 0.5\\nsamples = 2\\nvalue = [1, 1, 0]'),\n",
       " Text(0.4896551724137931, 0.03333333333333333, 'gini = 0.0\\nsamples = 1\\nvalue = [1, 0, 0]'),\n",
       " Text(0.5172413793103449, 0.03333333333333333, 'gini = 0.0\\nsamples = 1\\nvalue = [0, 1, 0]'),\n",
       " Text(0.5310344827586206, 0.1, 'gini = 0.0\\nsamples = 3\\nvalue = [3, 0, 0]'),\n",
       " Text(0.5448275862068965, 0.16666666666666666, 'gini = 0.0\\nsamples = 1\\nvalue = [0, 1, 0]'),\n",
       " Text(0.5586206896551724, 0.23333333333333334, 'gini = 0.0\\nsamples = 4\\nvalue = [4, 0, 0]'),\n",
       " Text(0.6827586206896552, 0.43333333333333335, 'Age <= 37.0\\ngini = 0.615\\nsamples = 19\\nvalue = [3, 7, 9]'),\n",
       " Text(0.6413793103448275, 0.36666666666666664, 'Age <= 21.5\\ngini = 0.639\\nsamples = 13\\nvalue = [3, 6, 4]'),\n",
       " Text(0.6, 0.3, 'Survived <= 0.5\\ngini = 0.5\\nsamples = 6\\nvalue = [1, 1, 4]'),\n",
       " Text(0.5862068965517241, 0.23333333333333334, 'Age <= 17.5\\ngini = 0.32\\nsamples = 5\\nvalue = [0, 1, 4]'),\n",
       " Text(0.5724137931034483, 0.16666666666666666, 'gini = 0.0\\nsamples = 3\\nvalue = [0, 0, 3]'),\n",
       " Text(0.6, 0.16666666666666666, 'Age <= 20.0\\ngini = 0.5\\nsamples = 2\\nvalue = [0, 1, 1]'),\n",
       " Text(0.5862068965517241, 0.1, 'gini = 0.0\\nsamples = 1\\nvalue = [0, 1, 0]'),\n",
       " Text(0.6137931034482759, 0.1, 'gini = 0.0\\nsamples = 1\\nvalue = [0, 0, 1]'),\n",
       " Text(0.6137931034482759, 0.23333333333333334, 'gini = 0.0\\nsamples = 1\\nvalue = [1, 0, 0]'),\n",
       " Text(0.6827586206896552, 0.3, 'Age <= 35.0\\ngini = 0.408\\nsamples = 7\\nvalue = [2, 5, 0]'),\n",
       " Text(0.6689655172413793, 0.23333333333333334, 'Fare <= 36.252\\ngini = 0.278\\nsamples = 6\\nvalue = [1, 5, 0]'),\n",
       " Text(0.6551724137931034, 0.16666666666666666, 'Fare <= 34.25\\ngini = 0.444\\nsamples = 3\\nvalue = [1, 2, 0]'),\n",
       " Text(0.6413793103448275, 0.1, 'gini = 0.0\\nsamples = 2\\nvalue = [0, 2, 0]'),\n",
       " Text(0.6689655172413793, 0.1, 'gini = 0.0\\nsamples = 1\\nvalue = [1, 0, 0]'),\n",
       " Text(0.6827586206896552, 0.16666666666666666, 'gini = 0.0\\nsamples = 3\\nvalue = [0, 3, 0]'),\n",
       " Text(0.696551724137931, 0.23333333333333334, 'gini = 0.0\\nsamples = 1\\nvalue = [1, 0, 0]'),\n",
       " Text(0.7241379310344828, 0.36666666666666664, 'Survived <= 0.5\\ngini = 0.278\\nsamples = 6\\nvalue = [0, 1, 5]'),\n",
       " Text(0.7103448275862069, 0.3, 'gini = 0.0\\nsamples = 4\\nvalue = [0, 0, 4]'),\n",
       " Text(0.7379310344827587, 0.3, 'Fare <= 35.194\\ngini = 0.5\\nsamples = 2\\nvalue = [0, 1, 1]'),\n",
       " Text(0.7241379310344828, 0.23333333333333334, 'gini = 0.0\\nsamples = 1\\nvalue = [0, 0, 1]'),\n",
       " Text(0.7517241379310344, 0.23333333333333334, 'gini = 0.0\\nsamples = 1\\nvalue = [0, 1, 0]'),\n",
       " Text(0.7793103448275862, 0.5, 'Fare <= 56.198\\ngini = 0.264\\nsamples = 33\\nvalue = [28, 1, 4]'),\n",
       " Text(0.7655172413793103, 0.43333333333333335, 'gini = 0.0\\nsamples = 17\\nvalue = [17, 0, 0]'),\n",
       " Text(0.7931034482758621, 0.43333333333333335, 'Fare <= 56.712\\ngini = 0.461\\nsamples = 16\\nvalue = [11, 1, 4]'),\n",
       " Text(0.7793103448275862, 0.36666666666666664, 'gini = 0.0\\nsamples = 4\\nvalue = [0, 0, 4]'),\n",
       " Text(0.8068965517241379, 0.36666666666666664, 'Fare <= 65.8\\ngini = 0.153\\nsamples = 12\\nvalue = [11, 1, 0]'),\n",
       " Text(0.7931034482758621, 0.3, 'Fare <= 64.179\\ngini = 0.278\\nsamples = 6\\nvalue = [5, 1, 0]'),\n",
       " Text(0.7793103448275862, 0.23333333333333334, 'gini = 0.0\\nsamples = 5\\nvalue = [5, 0, 0]'),\n",
       " Text(0.8068965517241379, 0.23333333333333334, 'gini = 0.0\\nsamples = 1\\nvalue = [0, 1, 0]'),\n",
       " Text(0.8206896551724138, 0.3, 'gini = 0.0\\nsamples = 6\\nvalue = [6, 0, 0]'),\n",
       " Text(0.9379310344827586, 0.5666666666666667, 'Fare <= 63.49\\ngini = 0.169\\nsamples = 44\\nvalue = [40, 2, 2]'),\n",
       " Text(0.903448275862069, 0.5, 'Age <= 48.5\\ngini = 0.135\\nsamples = 42\\nvalue = [39, 1, 2]'),\n",
       " Text(0.8758620689655172, 0.43333333333333335, 'Fare <= 34.938\\ngini = 0.219\\nsamples = 16\\nvalue = [14, 0, 2]'),\n",
       " Text(0.8620689655172413, 0.36666666666666664, 'Fare <= 34.198\\ngini = 0.375\\nsamples = 8\\nvalue = [6, 0, 2]'),\n",
       " Text(0.8482758620689655, 0.3, 'Fare <= 27.81\\ngini = 0.245\\nsamples = 7\\nvalue = [6, 0, 1]'),\n",
       " Text(0.8344827586206897, 0.23333333333333334, 'gini = 0.0\\nsamples = 4\\nvalue = [4, 0, 0]'),\n",
       " Text(0.8620689655172413, 0.23333333333333334, 'Fare <= 28.2\\ngini = 0.444\\nsamples = 3\\nvalue = [2, 0, 1]'),\n",
       " Text(0.8482758620689655, 0.16666666666666666, 'gini = 0.0\\nsamples = 1\\nvalue = [0, 0, 1]'),\n",
       " Text(0.8758620689655172, 0.16666666666666666, 'gini = 0.0\\nsamples = 2\\nvalue = [2, 0, 0]'),\n",
       " Text(0.8758620689655172, 0.3, 'gini = 0.0\\nsamples = 1\\nvalue = [0, 0, 1]'),\n",
       " Text(0.8896551724137931, 0.36666666666666664, 'gini = 0.0\\nsamples = 8\\nvalue = [8, 0, 0]'),\n",
       " Text(0.9310344827586207, 0.43333333333333335, 'Fare <= 37.25\\ngini = 0.074\\nsamples = 26\\nvalue = [25, 1, 0]'),\n",
       " Text(0.9172413793103448, 0.36666666666666664, 'gini = 0.0\\nsamples = 17\\nvalue = [17, 0, 0]'),\n",
       " Text(0.9448275862068966, 0.36666666666666664, 'Fare <= 44.252\\ngini = 0.198\\nsamples = 9\\nvalue = [8, 1, 0]'),\n",
       " Text(0.9310344827586207, 0.3, 'gini = 0.0\\nsamples = 1\\nvalue = [0, 1, 0]'),\n",
       " Text(0.9586206896551724, 0.3, 'gini = 0.0\\nsamples = 8\\nvalue = [8, 0, 0]'),\n",
       " Text(0.9724137931034482, 0.5, 'Fare <= 68.0\\ngini = 0.5\\nsamples = 2\\nvalue = [1, 1, 0]'),\n",
       " Text(0.9586206896551724, 0.43333333333333335, 'gini = 0.0\\nsamples = 1\\nvalue = [0, 1, 0]'),\n",
       " Text(0.9862068965517241, 0.43333333333333335, 'gini = 0.0\\nsamples = 1\\nvalue = [1, 0, 0]'),\n",
       " Text(0.8370689655172414, 0.6333333333333333, 'gini = 0.0\\nsamples = 5\\nvalue = [0, 5, 0]'),\n",
       " Text(0.8508620689655172, 0.7, 'gini = 0.0\\nsamples = 84\\nvalue = [84, 0, 0]')]"
      ]
     },
     "execution_count": 12,
     "metadata": {},
     "output_type": "execute_result"
    },
    {
     "data": {
      "image/png": "[encoded data removed]",
      "text/plain": [
       "<Figure size 640x480 with 1 Axes>"
      ]
     },
     "metadata": {},
     "output_type": "display_data"
    }
   ],
   "source": [
    "plot_tree(model, feature_names=features_train.columns.to_list()) #수치와 함께 그래프 표시\n",
    "#feature_names는 리스트형식으로 들어가야해서 미리 바꿔줌 \n",
    "#각각 설명변수에서 분기를 하기에 적정한 노드를 기점으로 나눠진다\n",
    "#내부적으로 클래스를 나누기 위한 가장 조건인 설명변수를 가장 위로, 그 밑으로도 쭈욱 항목들이 가지를 쳐서 내려감"
   ]
  },
  {
   "cell_type": "code",
   "execution_count": 16,
   "id": "5168737f-42f2-4145-b3c1-87e9e2f85bd5",
   "metadata": {
    "tags": []
   },
   "outputs": [],
   "source": [
    "%matplotlib tk \n",
    "#새창으로 띄우기\n",
    "plt.figure(figsize=(60, 30))\n",
    "plot_tree(model, feature_names=features_train.columns.to_list(), filled=True)\n",
    "plt.show() #그래프만 보기 \n",
    "#컨디션(맨위)에 따라서-설명변수에서 분기가 가장 적절한 것을 통계적(p-value)로 뽑아내서 그것에 따라 분기, 계속 분기, 가지의 끝부분은 목표변수이며 목표변수의 확률이 value 값이 세개, 하나가 1(목표변수 중에 확률이 가장 높은 것이 선택됨) \n",
    "#지니계수- 얼마나 왼쪽인지 오른쪽인지 나타내는 수치, 내려갈수록 0에 가까워짐 "
   ]
  },
  {
   "cell_type": "markdown",
   "id": "0241fed7-a452-46da-bc5c-1f99d5430b45",
   "metadata": {
    "tags": []
   },
   "source": [
    "#### 평가 "
   ]
  },
  {
   "cell_type": "code",
   "execution_count": 19,
   "id": "a17d1c14-eacd-463c-b91d-beca3ea67993",
   "metadata": {
    "tags": []
   },
   "outputs": [
    {
     "data": {
      "text/plain": [
       "(714,)"
      ]
     },
     "execution_count": 19,
     "metadata": {},
     "output_type": "execute_result"
    }
   ],
   "source": [
    "#내가 학습을 한 답안지와 원래 데이터의 답안지 비교하면 점수 나오는 방식의 분류 \n",
    "target_predict = model.predict(features_train)\n",
    "target_predict.shape"
   ]
  },
  {
   "cell_type": "code",
   "execution_count": 21,
   "id": "1baf6832-dd1c-466a-9a63-29a06fc42a6b",
   "metadata": {
    "tags": []
   },
   "outputs": [
    {
     "data": {
      "text/plain": [
       "1.0"
      ]
     },
     "execution_count": 21,
     "metadata": {},
     "output_type": "execute_result"
    }
   ],
   "source": [
    "from sklearn.metrics import accuracy_score\n",
    "accuracy_score(target_train, target_predict)\n",
    "#1.0 #100퍼센트  "
   ]
  }
 ],
 "metadata": {
  "kernelspec": {
   "display_name": "Python 3 (ipykernel)",
   "language": "python",
   "name": "python3"
  },
  "language_info": {
   "codemirror_mode": {
    "name": "ipython",
    "version": 3
   },
   "file_extension": ".py",
   "mimetype": "text/x-python",
   "name": "python",
   "nbconvert_exporter": "python",
   "pygments_lexer": "ipython3",
   "version": "3.11.3"
  }
 },
 "nbformat": 4,
 "nbformat_minor": 5
}
