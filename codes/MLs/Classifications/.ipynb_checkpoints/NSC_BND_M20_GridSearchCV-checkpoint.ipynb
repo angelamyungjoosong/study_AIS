{
 "cells": [
  {
   "cell_type": "markdown",
   "id": "ec11bba2-e0ea-4a60-9d93-a528f0ff5ff1",
   "metadata": {},
   "source": [
    "### 전처리 "
   ]
  },
  {
   "cell_type": "code",
   "execution_count": 53,
   "id": "ab9fcda9-139d-4207-ad02-ff2a0c9b28b8",
   "metadata": {
    "tags": []
   },
   "outputs": [],
   "source": [
    "import pymongo as mg\n",
    "import pandas as pd"
   ]
  },
  {
   "cell_type": "code",
   "execution_count": 54,
   "id": "05fe319c-85ff-43cc-a8cf-763a51867d8c",
   "metadata": {
    "tags": []
   },
   "outputs": [],
   "source": [
    "client = mg.MongoClient(host='mongodb://localhost:27017')"
   ]
  },
  {
   "cell_type": "code",
   "execution_count": 55,
   "id": "496decbf-f407-42af-be09-4563113dd6cb",
   "metadata": {
    "tags": []
   },
   "outputs": [],
   "source": [
    "database = client['db_NHIS']\n",
    "collection = database['merged_collection6']"
   ]
  },
  {
   "cell_type": "code",
   "execution_count": 56,
   "id": "57aeb59b-03cc-4031-9e51-d1d51bfd69b4",
   "metadata": {
    "tags": []
   },
   "outputs": [],
   "source": [
    "cursor = collection.find({})\n",
    "list_BND_M20 = list(cursor)"
   ]
  },
  {
   "cell_type": "code",
   "execution_count": 57,
   "id": "248b3c08-efec-4de3-b78a-802c98380dd2",
   "metadata": {
    "tags": []
   },
   "outputs": [
    {
     "data": {
      "text/html": [
       "<div>\n",
       "<style scoped>\n",
       "    .dataframe tbody tr th:only-of-type {\n",
       "        vertical-align: middle;\n",
       "    }\n",
       "\n",
       "    .dataframe tbody tr th {\n",
       "        vertical-align: top;\n",
       "    }\n",
       "\n",
       "    .dataframe thead th {\n",
       "        text-align: right;\n",
       "    }\n",
       "</style>\n",
       "<table border=\"1\" class=\"dataframe\">\n",
       "  <thead>\n",
       "    <tr style=\"text-align: right;\">\n",
       "      <th></th>\n",
       "      <th>_id</th>\n",
       "      <th>RN_INDI</th>\n",
       "      <th>BTH_YYYY</th>\n",
       "      <th>DTH_YYYYMM</th>\n",
       "      <th>COD1</th>\n",
       "      <th>COD2</th>\n",
       "      <th>RN_KEY</th>\n",
       "      <th>RN_INST</th>\n",
       "      <th>MDCARE_STRT_DT</th>\n",
       "      <th>FORM_CD</th>\n",
       "      <th>...</th>\n",
       "      <th>OPRTN_YN</th>\n",
       "      <th>MDCARE_DD_CNT</th>\n",
       "      <th>VSHSP_DD_CNT</th>\n",
       "      <th>TOT_PRSC_DD_CNT</th>\n",
       "      <th>MCARE_RSLT_TYPE</th>\n",
       "      <th>EDC_ADD_RT</th>\n",
       "      <th>ED_RC_TOT_AMT</th>\n",
       "      <th>EDC_SBA</th>\n",
       "      <th>EDC_INSUR_BRDN_AMT</th>\n",
       "      <th>STD_YYYY</th>\n",
       "    </tr>\n",
       "  </thead>\n",
       "  <tbody>\n",
       "    <tr>\n",
       "      <th>0</th>\n",
       "      <td>64e5d26e83f3c689386edb41</td>\n",
       "      <td>294364</td>\n",
       "      <td>1921LE</td>\n",
       "      <td>200707.0</td>\n",
       "      <td>T08-T14</td>\n",
       "      <td>W00-W19</td>\n",
       "      <td>2002080298703</td>\n",
       "      <td>26452</td>\n",
       "      <td>20020830</td>\n",
       "      <td>3</td>\n",
       "      <td>...</td>\n",
       "      <td>0</td>\n",
       "      <td>1</td>\n",
       "      <td>1</td>\n",
       "      <td>3</td>\n",
       "      <td>5.0</td>\n",
       "      <td>0.15</td>\n",
       "      <td>10590</td>\n",
       "      <td>3000</td>\n",
       "      <td>7590</td>\n",
       "      <td>2002</td>\n",
       "    </tr>\n",
       "    <tr>\n",
       "      <th>1</th>\n",
       "      <td>64e5d26e83f3c689386edb42</td>\n",
       "      <td>294364</td>\n",
       "      <td>1921LE</td>\n",
       "      <td>200707.0</td>\n",
       "      <td>T08-T14</td>\n",
       "      <td>W00-W19</td>\n",
       "      <td>2002090466395</td>\n",
       "      <td>63715</td>\n",
       "      <td>20020910</td>\n",
       "      <td>3</td>\n",
       "      <td>...</td>\n",
       "      <td>0</td>\n",
       "      <td>1</td>\n",
       "      <td>1</td>\n",
       "      <td>2</td>\n",
       "      <td>5.0</td>\n",
       "      <td>0.15</td>\n",
       "      <td>16520</td>\n",
       "      <td>4950</td>\n",
       "      <td>11570</td>\n",
       "      <td>2002</td>\n",
       "    </tr>\n",
       "  </tbody>\n",
       "</table>\n",
       "<p>2 rows × 23 columns</p>\n",
       "</div>"
      ],
      "text/plain": [
       "                        _id  RN_INDI BTH_YYYY  DTH_YYYYMM     COD1     COD2  \\\n",
       "0  64e5d26e83f3c689386edb41   294364   1921LE    200707.0  T08-T14  W00-W19   \n",
       "1  64e5d26e83f3c689386edb42   294364   1921LE    200707.0  T08-T14  W00-W19   \n",
       "\n",
       "          RN_KEY  RN_INST  MDCARE_STRT_DT  FORM_CD  ...  OPRTN_YN  \\\n",
       "0  2002080298703    26452        20020830        3  ...         0   \n",
       "1  2002090466395    63715        20020910        3  ...         0   \n",
       "\n",
       "  MDCARE_DD_CNT VSHSP_DD_CNT  TOT_PRSC_DD_CNT  MCARE_RSLT_TYPE  EDC_ADD_RT  \\\n",
       "0             1            1                3              5.0        0.15   \n",
       "1             1            1                2              5.0        0.15   \n",
       "\n",
       "   ED_RC_TOT_AMT  EDC_SBA  EDC_INSUR_BRDN_AMT  STD_YYYY  \n",
       "0          10590     3000                7590      2002  \n",
       "1          16520     4950               11570      2002  \n",
       "\n",
       "[2 rows x 23 columns]"
      ]
     },
     "execution_count": 57,
     "metadata": {},
     "output_type": "execute_result"
    }
   ],
   "source": [
    "df_BND_M20 = pd.DataFrame(list_BND_M20)\n",
    "df_BND_M20[:2]"
   ]
  },
  {
   "cell_type": "code",
   "execution_count": 58,
   "id": "626987a8-c017-4b51-9c12-ef647535244b",
   "metadata": {
    "tags": []
   },
   "outputs": [
    {
     "data": {
      "text/plain": [
       "J209     8244\n",
       "I10      4629\n",
       "I109     3275\n",
       "F_       3203\n",
       "N_       3177\n",
       "         ... \n",
       "H700        1\n",
       "E058        1\n",
       "M5397       1\n",
       "T18         1\n",
       "P289        1\n",
       "Name: SICK_SYM1, Length: 3414, dtype: int64"
      ]
     },
     "execution_count": 58,
     "metadata": {},
     "output_type": "execute_result"
    }
   ],
   "source": [
    "#세자리씩 잘라서 새로운 컬럼 생성, 머신러닝 위해서 숫자화\n",
    "#index를 code에 넣는 게 가장 쉬운 방식 \n",
    "df_BND_M20['SICK_SYM1'].value_counts()"
   ]
  },
  {
   "cell_type": "code",
   "execution_count": 59,
   "id": "c46b13b1-9806-49e8-bffd-5784b831c500",
   "metadata": {
    "tags": []
   },
   "outputs": [
    {
     "data": {
      "text/plain": [
       "(2, 4, 'J20', 'T18')"
      ]
     },
     "execution_count": 59,
     "metadata": {},
     "output_type": "execute_result"
    }
   ],
   "source": [
    "#뒷 세자리만 남기는 방식 \n",
    "len('F_'), len('J209'), 'J209'[:3], str('T18')[:3]"
   ]
  },
  {
   "cell_type": "code",
   "execution_count": 60,
   "id": "84f86abf-f9e0-440b-8254-80bfda6dd696",
   "metadata": {
    "tags": []
   },
   "outputs": [],
   "source": [
    "def convertSICK_SYM(sick_sym) : \n",
    "    if len(sick_sym) < 3:\n",
    "        return pd.NA\n",
    "    else :\n",
    "        return sick_sym[:3]\n"
   ]
  },
  {
   "cell_type": "code",
   "execution_count": 61,
   "id": "a84e8e5d-1e28-4f29-98e5-5d0dae871d60",
   "metadata": {
    "tags": []
   },
   "outputs": [
    {
     "data": {
      "text/plain": [
       "('J20', None)"
      ]
     },
     "execution_count": 61,
     "metadata": {},
     "output_type": "execute_result"
    }
   ],
   "source": [
    " convertSICK_SYM('J209'),  convertSICK_SYM('F_')"
   ]
  },
  {
   "cell_type": "code",
   "execution_count": 62,
   "id": "d0a45194-46c9-452e-9c87-04a237d34713",
   "metadata": {
    "tags": []
   },
   "outputs": [],
   "source": [
    "df_BND_M20['SICK_SYM1_3'] = df_BND_M20['SICK_SYM1'].apply( convertSICK_SYM)"
   ]
  },
  {
   "cell_type": "code",
   "execution_count": 63,
   "id": "c0b27066-f488-4525-a047-cde934102435",
   "metadata": {
    "tags": []
   },
   "outputs": [
    {
     "data": {
      "text/plain": [
       "J20    8917\n",
       "I10    8427\n",
       "J03    4187\n",
       "M54    3904\n",
       "J06    3460\n",
       "       ... \n",
       "G97       1\n",
       "K01       1\n",
       "S28       1\n",
       "I72       1\n",
       "P28       1\n",
       "Name: SICK_SYM1_3, Length: 747, dtype: int64"
      ]
     },
     "execution_count": 63,
     "metadata": {},
     "output_type": "execute_result"
    }
   ],
   "source": [
    "df_BND_M20['SICK_SYM1_3'].value_counts()"
   ]
  },
  {
   "cell_type": "code",
   "execution_count": 64,
   "id": "37a57360-a093-45c2-888e-26330d1ce726",
   "metadata": {
    "tags": []
   },
   "outputs": [
    {
     "data": {
      "text/plain": [
       "_id                   0\n",
       "RN_INDI               0\n",
       "BTH_YYYY              0\n",
       "DTH_YYYYMM            0\n",
       "COD1                  0\n",
       "COD2                  0\n",
       "RN_KEY                0\n",
       "RN_INST               0\n",
       "MDCARE_STRT_DT        0\n",
       "FORM_CD               0\n",
       "MCARE_SUBJ_CD         0\n",
       "SICK_SYM1             0\n",
       "OFIJ_TYPE             0\n",
       "OPRTN_YN              0\n",
       "MDCARE_DD_CNT         0\n",
       "VSHSP_DD_CNT          0\n",
       "TOT_PRSC_DD_CNT       0\n",
       "MCARE_RSLT_TYPE       0\n",
       "EDC_ADD_RT            0\n",
       "ED_RC_TOT_AMT         0\n",
       "EDC_SBA               0\n",
       "EDC_INSUR_BRDN_AMT    0\n",
       "STD_YYYY              0\n",
       "SICK_SYM1_3           0\n",
       "dtype: int64"
      ]
     },
     "execution_count": 64,
     "metadata": {},
     "output_type": "execute_result"
    }
   ],
   "source": [
    "df_BND_M20_dropna = df_BND_M20.dropna()\n",
    "df_BND_M20_dropna.isnull().sum() "
   ]
  },
  {
   "cell_type": "code",
   "execution_count": 65,
   "id": "85302802-5590-4bd0-9907-3836ee8f8e9d",
   "metadata": {
    "tags": []
   },
   "outputs": [
    {
     "data": {
      "text/html": [
       "<div>\n",
       "<style scoped>\n",
       "    .dataframe tbody tr th:only-of-type {\n",
       "        vertical-align: middle;\n",
       "    }\n",
       "\n",
       "    .dataframe tbody tr th {\n",
       "        vertical-align: top;\n",
       "    }\n",
       "\n",
       "    .dataframe thead th {\n",
       "        text-align: right;\n",
       "    }\n",
       "</style>\n",
       "<table border=\"1\" class=\"dataframe\">\n",
       "  <thead>\n",
       "    <tr style=\"text-align: right;\">\n",
       "      <th></th>\n",
       "      <th>_id</th>\n",
       "      <th>RN_INDI</th>\n",
       "      <th>BTH_YYYY</th>\n",
       "      <th>DTH_YYYYMM</th>\n",
       "      <th>COD1</th>\n",
       "      <th>COD2</th>\n",
       "      <th>RN_KEY</th>\n",
       "      <th>RN_INST</th>\n",
       "      <th>MDCARE_STRT_DT</th>\n",
       "      <th>FORM_CD</th>\n",
       "      <th>...</th>\n",
       "      <th>MDCARE_DD_CNT</th>\n",
       "      <th>VSHSP_DD_CNT</th>\n",
       "      <th>TOT_PRSC_DD_CNT</th>\n",
       "      <th>MCARE_RSLT_TYPE</th>\n",
       "      <th>EDC_ADD_RT</th>\n",
       "      <th>ED_RC_TOT_AMT</th>\n",
       "      <th>EDC_SBA</th>\n",
       "      <th>EDC_INSUR_BRDN_AMT</th>\n",
       "      <th>STD_YYYY</th>\n",
       "      <th>SICK_SYM1_3</th>\n",
       "    </tr>\n",
       "  </thead>\n",
       "  <tbody>\n",
       "    <tr>\n",
       "      <th>0</th>\n",
       "      <td>64e5d26e83f3c689386edb41</td>\n",
       "      <td>294364</td>\n",
       "      <td>1921LE</td>\n",
       "      <td>200707.0</td>\n",
       "      <td>T08-T14</td>\n",
       "      <td>W00-W19</td>\n",
       "      <td>2002080298703</td>\n",
       "      <td>26452</td>\n",
       "      <td>20020830</td>\n",
       "      <td>3</td>\n",
       "      <td>...</td>\n",
       "      <td>1</td>\n",
       "      <td>1</td>\n",
       "      <td>3</td>\n",
       "      <td>5.0</td>\n",
       "      <td>0.15</td>\n",
       "      <td>10590</td>\n",
       "      <td>3000</td>\n",
       "      <td>7590</td>\n",
       "      <td>2002</td>\n",
       "      <td>L02</td>\n",
       "    </tr>\n",
       "    <tr>\n",
       "      <th>3</th>\n",
       "      <td>64e5d26e83f3c689386edb44</td>\n",
       "      <td>294364</td>\n",
       "      <td>1921LE</td>\n",
       "      <td>200707.0</td>\n",
       "      <td>T08-T14</td>\n",
       "      <td>W00-W19</td>\n",
       "      <td>2002020488631</td>\n",
       "      <td>23506</td>\n",
       "      <td>20020208</td>\n",
       "      <td>3</td>\n",
       "      <td>...</td>\n",
       "      <td>1</td>\n",
       "      <td>1</td>\n",
       "      <td>3</td>\n",
       "      <td>5.0</td>\n",
       "      <td>0.15</td>\n",
       "      <td>12920</td>\n",
       "      <td>3000</td>\n",
       "      <td>9920</td>\n",
       "      <td>2002</td>\n",
       "      <td>K29</td>\n",
       "    </tr>\n",
       "  </tbody>\n",
       "</table>\n",
       "<p>2 rows × 24 columns</p>\n",
       "</div>"
      ],
      "text/plain": [
       "                        _id  RN_INDI BTH_YYYY  DTH_YYYYMM     COD1     COD2  \\\n",
       "0  64e5d26e83f3c689386edb41   294364   1921LE    200707.0  T08-T14  W00-W19   \n",
       "3  64e5d26e83f3c689386edb44   294364   1921LE    200707.0  T08-T14  W00-W19   \n",
       "\n",
       "          RN_KEY  RN_INST  MDCARE_STRT_DT  FORM_CD  ...  MDCARE_DD_CNT  \\\n",
       "0  2002080298703    26452        20020830        3  ...              1   \n",
       "3  2002020488631    23506        20020208        3  ...              1   \n",
       "\n",
       "  VSHSP_DD_CNT TOT_PRSC_DD_CNT  MCARE_RSLT_TYPE  EDC_ADD_RT  ED_RC_TOT_AMT  \\\n",
       "0            1               3              5.0        0.15          10590   \n",
       "3            1               3              5.0        0.15          12920   \n",
       "\n",
       "   EDC_SBA  EDC_INSUR_BRDN_AMT  STD_YYYY  SICK_SYM1_3  \n",
       "0     3000                7590      2002          L02  \n",
       "3     3000                9920      2002          K29  \n",
       "\n",
       "[2 rows x 24 columns]"
      ]
     },
     "execution_count": 65,
     "metadata": {},
     "output_type": "execute_result"
    }
   ],
   "source": [
    "df_BND_M20_dropna[:2]"
   ]
  },
  {
   "cell_type": "code",
   "execution_count": 66,
   "id": "813054c1-8536-4bee-86c1-ef4063a4ebfd",
   "metadata": {
    "tags": []
   },
   "outputs": [
    {
     "data": {
      "text/plain": [
       "J20    68\n",
       "E11    56\n",
       "I10    50\n",
       "J30    35\n",
       "I42    32\n",
       "       ..\n",
       "R81     1\n",
       "H36     1\n",
       "K12     1\n",
       "E03     1\n",
       "H00     1\n",
       "Name: SICK_SYM1_3, Length: 141, dtype: int64"
      ]
     },
     "execution_count": 66,
     "metadata": {},
     "output_type": "execute_result"
    }
   ],
   "source": [
    "target_list = df_BND_M20_dropna['SICK_SYM1_3'].value_counts()\n",
    "target_list "
   ]
  },
  {
   "cell_type": "code",
   "execution_count": 67,
   "id": "ff27cb22-a2a4-4d30-858b-597b74c91cca",
   "metadata": {
    "tags": []
   },
   "outputs": [],
   "source": [
    "target_list = df_BND_M20_dropna['SICK_SYM1_3'].value_counts().index.to_list() \n",
    "#인덱스를 리스트로 만들어"
   ]
  },
  {
   "cell_type": "code",
   "execution_count": 68,
   "id": "c93293f2-6e79-47ab-b459-519999bc6d3b",
   "metadata": {
    "tags": []
   },
   "outputs": [
    {
     "data": {
      "text/plain": [
       "1"
      ]
     },
     "execution_count": 68,
     "metadata": {},
     "output_type": "execute_result"
    }
   ],
   "source": [
    "target_list.index('E11') "
   ]
  },
  {
   "cell_type": "code",
   "execution_count": 69,
   "id": "1f1ff323-dcc6-4700-a12d-91b659740121",
   "metadata": {
    "tags": []
   },
   "outputs": [
    {
     "data": {
      "text/plain": [
       "0"
      ]
     },
     "execution_count": 69,
     "metadata": {},
     "output_type": "execute_result"
    }
   ],
   "source": [
    "target_list.index('J20') "
   ]
  },
  {
   "cell_type": "code",
   "execution_count": 70,
   "id": "05fa3417-4219-4ae9-bbe5-57985258d0fd",
   "metadata": {
    "tags": []
   },
   "outputs": [],
   "source": [
    "def applyIndexNumber(SICK_SYM1_3):\n",
    "    indexNumber = target_list.index(SICK_SYM1_3)\n",
    "    return indexNumber "
   ]
  },
  {
   "cell_type": "code",
   "execution_count": 71,
   "id": "33156c99-f6f7-4d9e-901b-74ea05f2796c",
   "metadata": {
    "tags": []
   },
   "outputs": [
    {
     "name": "stderr",
     "output_type": "stream",
     "text": [
      "C:\\Users\\5-21\\AppData\\Local\\Temp\\ipykernel_15948\\3294566143.py:1: SettingWithCopyWarning: \n",
      "A value is trying to be set on a copy of a slice from a DataFrame.\n",
      "Try using .loc[row_indexer,col_indexer] = value instead\n",
      "\n",
      "See the caveats in the documentation: https://pandas.pydata.org/pandas-docs/stable/user_guide/indexing.html#returning-a-view-versus-a-copy\n",
      "  df_BND_M20_dropna['SICK_SYM1_3_target'] = df_BND_M20_dropna['SICK_SYM1_3'].apply(applyIndexNumber)\n"
     ]
    }
   ],
   "source": [
    "df_BND_M20_dropna['SICK_SYM1_3_target'] = df_BND_M20_dropna['SICK_SYM1_3'].apply(applyIndexNumber)"
   ]
  },
  {
   "cell_type": "code",
   "execution_count": 72,
   "id": "3a11b323-9044-443b-8e99-2a76cf653820",
   "metadata": {
    "tags": []
   },
   "outputs": [
    {
     "data": {
      "text/plain": [
       "0    83\n",
       "3     8\n",
       "Name: SICK_SYM1_3_target, dtype: int64"
      ]
     },
     "execution_count": 72,
     "metadata": {},
     "output_type": "execute_result"
    }
   ],
   "source": [
    "df_BND_M20_dropna['SICK_SYM1_3_target'][:2]"
   ]
  },
  {
   "cell_type": "markdown",
   "id": "444fa6c8-d47c-43fb-bdfa-c37dcbc45df6",
   "metadata": {},
   "source": [
    "### 정형화 "
   ]
  },
  {
   "cell_type": "code",
   "execution_count": 73,
   "id": "ca64ee23-3301-45f0-b02a-1558ee870b19",
   "metadata": {
    "tags": []
   },
   "outputs": [
    {
     "data": {
      "text/plain": [
       "Index(['_id', 'RN_INDI', 'BTH_YYYY', 'DTH_YYYYMM', 'COD1', 'COD2', 'RN_KEY',\n",
       "       'RN_INST', 'MDCARE_STRT_DT', 'FORM_CD', 'MCARE_SUBJ_CD', 'SICK_SYM1',\n",
       "       'OFIJ_TYPE', 'OPRTN_YN', 'MDCARE_DD_CNT', 'VSHSP_DD_CNT',\n",
       "       'TOT_PRSC_DD_CNT', 'MCARE_RSLT_TYPE', 'EDC_ADD_RT', 'ED_RC_TOT_AMT',\n",
       "       'EDC_SBA', 'EDC_INSUR_BRDN_AMT', 'STD_YYYY', 'SICK_SYM1_3',\n",
       "       'SICK_SYM1_3_target'],\n",
       "      dtype='object')"
      ]
     },
     "execution_count": 73,
     "metadata": {},
     "output_type": "execute_result"
    }
   ],
   "source": [
    "df_BND_M20_dropna.columns "
   ]
  },
  {
   "cell_type": "code",
   "execution_count": 74,
   "id": "8abf5deb-f4e0-4832-b658-8b397c005990",
   "metadata": {
    "tags": []
   },
   "outputs": [
    {
     "data": {
      "text/plain": [
       "((829,), (829, 2))"
      ]
     },
     "execution_count": 74,
     "metadata": {},
     "output_type": "execute_result"
    }
   ],
   "source": [
    "target = df_BND_M20_dropna['SICK_SYM1_3_target']\n",
    "features = df_BND_M20_dropna[['EDC_ADD_RT','ED_RC_TOT_AMT']]\n",
    "target.shape, features.shape "
   ]
  },
  {
   "cell_type": "code",
   "execution_count": 75,
   "id": "2f5ac8e7-bc66-4561-ac1d-411256c94730",
   "metadata": {
    "tags": []
   },
   "outputs": [
    {
     "data": {
      "text/plain": [
       "((621, 2), (621,), (208, 2), (208,))"
      ]
     },
     "execution_count": 75,
     "metadata": {},
     "output_type": "execute_result"
    }
   ],
   "source": [
    "#원래는 minmaxsquare해줘야함 \n",
    "\n",
    "#split\n",
    "from sklearn.model_selection import train_test_split \n",
    "features_train, features_test, target_train, target_test=  train_test_split(features, target, random_state=111) \n",
    "features_train.shape, target_train.shape, features_test.shape, target_test.shape\n",
    "#features, target이 7:3으로 쪼개짐 "
   ]
  },
  {
   "cell_type": "markdown",
   "id": "3f71db7b-9ba8-4f9e-b136-31b9cb45045f",
   "metadata": {},
   "source": [
    "#### 모델학습 "
   ]
  },
  {
   "cell_type": "code",
   "execution_count": 76,
   "id": "ccaa7ead-9661-4f0a-91fa-71ddad11b371",
   "metadata": {
    "tags": []
   },
   "outputs": [],
   "source": [
    "#교차학습 \n",
    "from sklearn.tree import DecisionTreeClassifier, DecisionTreeRegressor\n",
    "#목표변수가 범주형이면 DecisionTreeClassifier \n",
    "#목표변수가 연속형이면 DecisionTreeClassifier \n",
    "#hyperparameter구하는데 유연성있게 "
   ]
  },
  {
   "cell_type": "code",
   "execution_count": 77,
   "id": "76bfb8db-9bdf-47b8-8069-19c6b4ee7051",
   "metadata": {
    "tags": []
   },
   "outputs": [],
   "source": [
    "model = DecisionTreeClassifier() #모델 생성 "
   ]
  },
  {
   "cell_type": "code",
   "execution_count": 78,
   "id": "385f2689-c1ec-415b-b31c-004a71480adc",
   "metadata": {
    "tags": []
   },
   "outputs": [],
   "source": [
    "from sklearn.model_selection import GridSearchCV "
   ]
  },
  {
   "cell_type": "code",
   "execution_count": 79,
   "id": "2c3a0fac-eb2e-4cb5-a04e-58d629d94464",
   "metadata": {
    "tags": []
   },
   "outputs": [],
   "source": [
    "#model, data, model에따른  hyperparameter조정할 range\n",
    "#leaf(가지끝에 달리는 갯수), depth(얼마만큼 깊이 들어가냐)"
   ]
  },
  {
   "cell_type": "code",
   "execution_count": 80,
   "id": "6acc2363-c84b-44a8-89d1-c64de355e68b",
   "metadata": {
    "tags": []
   },
   "outputs": [],
   "source": [
    "#model에 대한 hyper_params  ??? \n",
    "hyper_params = {'min_samples_leaf' : [5,7,9]\n",
    "                ,'max_depth' : [9,11]\n",
    "                , 'min_samples_split' : [5,6,7]}\n",
    "#딕셔너리로 들어감 앞뒤가 브레이스, 키+벨류, 여러개의 range로 넣는다 "
   ]
  },
  {
   "cell_type": "markdown",
   "id": "825b2de9-d854-4714-85bb-9114e37afc63",
   "metadata": {},
   "source": [
    "#### 평가 score: 분류-정확도(default), 예측-R squared "
   ]
  },
  {
   "cell_type": "code",
   "execution_count": 81,
   "id": "16b7c31e-04f9-419e-a857-88700e552a9e",
   "metadata": {
    "tags": []
   },
   "outputs": [],
   "source": [
    "#best model사용하는데 accuray 사용되는데, 우리는 f-score 사용하고 싶다 scoring=f1_score\n",
    "#data를 몇개로 쪼갤건지 cv=3 3개로 쪼갤거다\n",
    "#한번에 500개는 되어야함 \n",
    "#verbose 학습되는 상태를 보겠다 =1"
   ]
  },
  {
   "cell_type": "code",
   "execution_count": 82,
   "id": "7fa3a80b-2dcb-43d0-b35f-025407f371cd",
   "metadata": {
    "tags": []
   },
   "outputs": [],
   "source": [
    "from sklearn.metrics import f1_score, make_scorer"
   ]
  },
  {
   "cell_type": "code",
   "execution_count": 83,
   "id": "a48212f7-a76a-40e1-b0aa-50598aefe7a3",
   "metadata": {
    "tags": []
   },
   "outputs": [
    {
     "ename": "NameError",
     "evalue": "name 'scoring' is not defined",
     "output_type": "error",
     "traceback": [
      "\u001b[1;31m---------------------------------------------------------------------------\u001b[0m",
      "\u001b[1;31mNameError\u001b[0m                                 Traceback (most recent call last)",
      "Cell \u001b[1;32mIn[83], line 2\u001b[0m\n\u001b[0;32m      1\u001b[0m grid_search \u001b[38;5;241m=\u001b[39m make_scorer(f1_score)\n\u001b[1;32m----> 2\u001b[0m grid_search \u001b[38;5;241m=\u001b[39m GridSearchCV(model, param_grid\u001b[38;5;241m=\u001b[39mhyper_params, cv\u001b[38;5;241m=\u001b[39m\u001b[38;5;241m2\u001b[39m, verbose\u001b[38;5;241m=\u001b[39m\u001b[38;5;241m1\u001b[39m, scoring\u001b[38;5;241m=\u001b[39mscoring)\n",
      "\u001b[1;31mNameError\u001b[0m: name 'scoring' is not defined"
     ]
    }
   ],
   "source": [
    "grid_search = make_scorer(f1_score)\n",
    "grid_search = GridSearchCV(model, param_grid=hyper_params, cv=2, verbose=1, scoring=scoring)#인스턴스화\n",
    "#하나의 model을 담고 있고  여러가지 항목 교차로 확인할 수 있다 \n",
    "# 3*2*3*3개의 model만들어짐 "
   ]
  },
  {
   "cell_type": "code",
   "execution_count": null,
   "id": "6fc42102-6fa8-4391-a238-592cce206074",
   "metadata": {
    "tags": []
   },
   "outputs": [],
   "source": [
    "grid_search.fit(features_train, target_train)"
   ]
  },
  {
   "cell_type": "code",
   "execution_count": null,
   "id": "1c80aebf-d6df-4173-9eab-1c81f74c3dc8",
   "metadata": {
    "tags": []
   },
   "outputs": [],
   "source": [
    "grid_search.best_estimator_"
   ]
  },
  {
   "cell_type": "code",
   "execution_count": null,
   "id": "7317ea7b-4518-46e6-8ddd-791a68a2b6d5",
   "metadata": {
    "tags": []
   },
   "outputs": [],
   "source": [
    "grid_search.best_score_, grid_search.best_params_"
   ]
  },
  {
   "cell_type": "code",
   "execution_count": null,
   "id": "2004a6c6-b2c0-4062-bc3b-f7185cc4bdbd",
   "metadata": {
    "tags": []
   },
   "outputs": [],
   "source": [
    "best_model = grid_search.best_estimator_\n",
    "best_model\n",
    "#최고의 성능을 가진 한 개의 모델만 담긴다 "
   ]
  },
  {
   "cell_type": "code",
   "execution_count": null,
   "id": "40f3da70-2ed1-4477-a04e-1d32be9e273a",
   "metadata": {
    "tags": []
   },
   "outputs": [],
   "source": [
    "target_test_predict = best_model.predict(features_test)\n",
    "target_test_predict"
   ]
  },
  {
   "cell_type": "code",
   "execution_count": null,
   "id": "15680232-498a-42da-8dd0-c139c4f89036",
   "metadata": {
    "tags": []
   },
   "outputs": [],
   "source": [
    "from sklearn.metrics import classification_report \n",
    "print(classification_report(target_test, target_test_predict))\n",
    "#두 값 비교 "
   ]
  },
  {
   "cell_type": "code",
   "execution_count": null,
   "id": "e1012eaa-fcc1-4b22-b86d-eed22253e0b3",
   "metadata": {},
   "outputs": [],
   "source": []
  }
 ],
 "metadata": {
  "kernelspec": {
   "display_name": "Python 3 (ipykernel)",
   "language": "python",
   "name": "python3"
  },
  "language_info": {
   "codemirror_mode": {
    "name": "ipython",
    "version": 3
   },
   "file_extension": ".py",
   "mimetype": "text/x-python",
   "name": "python",
   "nbconvert_exporter": "python",
   "pygments_lexer": "ipython3",
   "version": "3.11.3"
  }
 },
 "nbformat": 4,
 "nbformat_minor": 5
}
